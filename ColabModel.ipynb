{
  "nbformat": 4,
  "nbformat_minor": 0,
  "metadata": {
    "kernelspec": {
      "display_name": "Python 3",
      "language": "python",
      "name": "python3"
    },
    "language_info": {
      "codemirror_mode": {
        "name": "ipython",
        "version": 3
      },
      "file_extension": ".py",
      "mimetype": "text/x-python",
      "name": "python",
      "nbconvert_exporter": "python",
      "pygments_lexer": "ipython3",
      "version": "3.7.6"
    },
    "colab": {
      "name": "Creating Models for Orginal.ipynb",
      "provenance": [],
      "collapsed_sections": []
    },
    "accelerator": "GPU"
  },
  "cells": [
    {
      "cell_type": "code",
      "metadata": {
        "id": "6vRE_In9GJgn"
      },
      "source": [
        "%load_ext tensorboard\n",
        "from keras.callbacks import TensorBoard\n",
        "import time , os"
      ],
      "execution_count": 1,
      "outputs": []
    },
    {
      "cell_type": "code",
      "metadata": {
        "id": "THlyxYV8GJgq"
      },
      "source": [
        "from tensorflow import keras\n",
        "from mpl_toolkits.mplot3d import Axes3D\n",
        "import matplotlib.pyplot as plt\n",
        "import time\n",
        "import base64\n",
        "from io import BytesIO\n",
        "import random\n",
        "import numpy as np\n",
        "\n",
        "class AutoEncoder:\n",
        "    \n",
        "    def __init__(self,shape_x=28,shape_y=28,channels=1,dense=0,dense_values=[64,32,16],output=64,lRate=0.001,epochs=3,batch_size=32) :\n",
        "        self.shape_x = shape_x\n",
        "        self.shape_y = shape_y\n",
        "        self.channels = channels\n",
        "        self.autoencoder = None\n",
        "        self.encoder = None\n",
        "        self.dense = dense\n",
        "        self.dense_values = dense_values\n",
        "        self.output = output\n",
        "        self.lRate = lRate\n",
        "        self.epochs = epochs\n",
        "        self.batch_size = batch_size\n",
        "        \n",
        "        (self.X_TRAIN,self.Y_TRAIN),(self.X_TEST,self.Y_TEST) = keras.datasets.mnist.load_data()\n",
        "    \n",
        "    def Autoencoder(self,x_data,y_data):\n",
        "        \n",
        "        # dense => No of Dense Layers\n",
        "        # dense_values = is a list of no of cell per dense layer by default they will get value nearest to perfect sq\n",
        "        # max hidden layer 3\n",
        "        # output is set to 64 for dense = 0\n",
        "        \n",
        "        # may be would add LSTM etc\n",
        "        \n",
        "        if self.dense > 3:\n",
        "            return 'Error- Chossen More than 3 dense layers!!!'\n",
        "        \n",
        "        \n",
        "        #  Encoder -- \n",
        "        \n",
        "        encoder_input = keras.Input((self.shape_x,self.shape_y,self.channels))\n",
        "        flaten = keras.layers.Flatten()(encoder_input)\n",
        "        \n",
        "        dense_layers = []\n",
        "        \n",
        "        if self.dense > 0:\n",
        "            for i in range(self.dense) :\n",
        "                \n",
        "                if i == 0 :\n",
        "                    layer = keras.layers.Dense(self.dense_values[i],activation='relu')(flaten)\n",
        "                else:\n",
        "                    layer = keras.layers.Dense(self.dense_values[i],activation='relu')(dense_layers[-1])\n",
        "                    \n",
        "                dense_layers.append(layer)\n",
        "            \n",
        "       \n",
        "        if len(dense_layers) == 0:\n",
        "            encoder_output = keras.layers.Dense(self.output)(flaten)\n",
        "        else:\n",
        "            encoder_output = keras.layers.Dense(self.output)(dense_layers[-1])\n",
        "        \n",
        "        # Encoder Model\n",
        "        self.encoder = keras.Model(encoder_input,encoder_output)\n",
        "        \n",
        "        # Decoder --\n",
        "        \n",
        "        decoder_layers = []\n",
        "        \n",
        "        if self.dense > 0:\n",
        "            for i in range(self.dense-1,-1,-1):\n",
        "                \n",
        "                if i == self.dense-1:\n",
        "                    layers = keras.layers.Dense(self.dense_values[i],activation='relu')(encoder_output)\n",
        "                else:\n",
        "                    layers = keras.layers.Dense(self.dense_values[i],activation='relu')(decoder_layers[-1])\n",
        "                    \n",
        "                decoder_layers.append(layers)\n",
        "                \n",
        "            \n",
        "        if self.dense == 0:\n",
        "            decoder_out = keras.layers.Dense(self.shape_x*self.shape_y,activation='relu')(encoder_output)\n",
        "            \n",
        "        else:\n",
        "            decoder_out = keras.layers.Dense(self.shape_x*self.shape_y,activation='relu')(decoder_layers[-1])\n",
        "            \n",
        "        decoder_output = keras.layers.Reshape((self.shape_x,self.shape_y,1))(decoder_out)\n",
        "        \n",
        "        optimizer = keras.optimizers.Adam(learning_rate = self.lRate,decay=1e-6)\n",
        "        \n",
        "        self.autoencoder = keras.Model(encoder_input,decoder_output)\n",
        "        self.autoencoder.compile(optimizer,loss='mse')\n",
        "        print(self.autoencoder.summary())\n",
        "        \n",
        "        print(\"Ceating...\")\n",
        "        name = 'model_dense_{}_iter_{}_layer_values_{}_time_{}'.format(self.dense,self.epochs,self.dense_values,int(time.time()))\n",
        "        name = os.path.join(\"logs\",name)\n",
        "        tb= TensorBoard(log_dir=name)\n",
        "\n",
        "        self.autoencoder.fit(x_data,y_data,epochs=self.epochs,batch_size=self.batch_size,callbacks=[tb])\n",
        "        \n",
        "        return (self.autoencoder , self.encoder)\n",
        "    \n",
        "        \n",
        "        \n",
        "    def SaveModel(self,noice,noice_val):\n",
        "        \n",
        "        if noice == True:\n",
        "            print(\"Savng Noice\")\n",
        "            name = \"Models/noice_{}_ancoder_dense_{}_epochs_{}_neck_{}_time_\".format(noice_val,self.dense,self.epochs,self.output,time.time())\n",
        "            self.autoencoder.save(name)\n",
        "            name = \"Models/noice_{}_ancoder_dense_{}_epochs_{}_neck_{}_time_enco\".format(noice_val,self.dense,self.epochs,self.output,time.time())\n",
        "            self.encoder.save(name)\n",
        "        else:\n",
        "            name = \"Models/ancoder_dense_{}_epochs_{}_neck_{}_time_\".format(self.dense,self.epochs,self.output,time.time())\n",
        "            self.autoencoder.save(name)\n",
        "            name = \"Models/ancoder_dense_{}_epochs_{}_neck_{}_time_enco\".format(self.dense,self.epochs,self.output,time.time())\n",
        "            self.encoder.save(name)\n",
        "        \n",
        "        \n",
        "        \n",
        "    \n",
        "    def train(self,object1,train_on = 1,save=False,noice=False,noice_val=5):\n",
        "        # % of data to train on \n",
        "        print('Saving :',save )\n",
        "        x_train = (self.X_TRAIN[:int(len(self.X_TRAIN)*train_on)])/255.0\n",
        "        \n",
        "        y_data = x_train\n",
        "        if noice == True:\n",
        "            y_data = x_train.copy()\n",
        "            for i in range(len(x_train)):\n",
        "                x_train[i] = add_noise(x_train[i],random_chance = noice_val)\n",
        "            \n",
        "                \n",
        "        object1.Autoencoder(x_train,x_train)    \n",
        "                                                                       \n",
        "        if save == True:\n",
        "            self.SaveModel(noice = noice,noice_val=noice_val)\n",
        "\n",
        "    \n",
        "    def test(self,img1=None):\n",
        "        \n",
        "        if img1 == None:\n",
        "            x_test = self.X_TEST/255.0\n",
        "            indx = random.randint(0,len(x_test))\n",
        "            img = x_test[indx]\n",
        "        else:\n",
        "            img = img1\n",
        "            \n",
        "            \n",
        "        plt.imshow(img,cmap='gray')\n",
        "        plt.show()\n",
        "        return self.autoencoder.predict(img.reshape(-1,28,28,1))[0]\n",
        "    \n",
        " \n",
        "\n",
        "\n",
        "\n",
        "\n",
        "def get_embidding_space(path,dim):\n",
        "    \n",
        "    plt.switch_backend(\"AGG\")\n",
        "    \n",
        "    path = path + \"enco\"\n",
        "    (X_TRAIN,Y_TRAIN),(X_TEST,Y_TEST) = keras.datasets.mnist.load_data()\n",
        "    x,sample_labels = select_images(X_TEST,Y_TEST,num_images=int(len(X_TEST)*0.98))\n",
        "    \n",
        "    model = keras.models.load_model(path)\n",
        "    latent_representations = model.predict(x)\n",
        "    \n",
        "    print(\"3333 DDDD ---- > : \",dim,latent_representations.shape)\n",
        "    \n",
        "    \n",
        "    if dim >= 2:\n",
        "        \n",
        "        plt.scatter(latent_representations[:, 0],\n",
        "                    latent_representations[:, 1],\n",
        "                    cmap=\"rainbow\",\n",
        "                    c=sample_labels,\n",
        "                    alpha=0.5,\n",
        "                    s=2)\n",
        "        plt.colorbar()\n",
        "        graph = get_graph()\n",
        "        \n",
        "    elif dim == 3 :\n",
        "        print(\"we are in \")\n",
        "\n",
        "        ax = plt.axes(projection='3d')\n",
        "        \n",
        "        ax.scatter3D(latent_representations[:, 0],\n",
        "                    latent_representations[:, 1],\n",
        "                    latent_representations[:, 2],\n",
        "                    # cmap=\"rainbow\",\n",
        "                    # c=sample_labels,\n",
        "                    # alpha=0.5,\n",
        "                    #s=2\n",
        "                    )\n",
        "        plt.colorbar()\n",
        "        graph = get_graph()\n",
        "    else:\n",
        "        graph = -1\n",
        "        \n",
        "        \n",
        "    return graph\n",
        "\n",
        "\n",
        "def add_noise(img, random_chance=5):\n",
        "    noisy = []\n",
        "    for row in img:\n",
        "        new_row = []\n",
        "        for pix in row:\n",
        "            if random.choice(range(100)) <= random_chance: \n",
        "                new_val = random.uniform(0, 1)\n",
        "                new_row.append(new_val)\n",
        "            else:\n",
        "                new_row.append(pix)\n",
        "        noisy.append(new_row)\n",
        "    return np.array(noisy)\n",
        "\n",
        "def plot_images_encoded_in_latent_space(latent_representations,sample_labels):\n",
        "    plt.figure(figsize=(10, 10))\n",
        "    plt.scatter(latent_representations[:, 0],\n",
        "                latent_representations[:, 1],\n",
        "                cmap=\"rainbow\",\n",
        "                c=sample_labels,\n",
        "                alpha=0.5,\n",
        "                s=2)\n",
        "    plt.colorbar()\n",
        "    plt.show()\n",
        "    \n",
        "\n",
        "def select_images(images, labels, num_images=10):\n",
        "    sample_images_index = np.random.choice(range(len(images)), num_images)\n",
        "    sample_images = images[sample_images_index]\n",
        "    sample_labels = labels[sample_images_index]\n",
        "    return sample_images, sample_labels\n",
        "\n",
        "    \n",
        "    \n",
        "    \n",
        "def predict(img,val,noice=False):\n",
        "    plt.switch_backend(\"AGG\") \n",
        "    \n",
        "    if noice == False : \n",
        "        if val == 'mod1': #mlai\\Models\\ancoder_dense_0_epochs_3_neck_64_time_1624556327.7832968\n",
        "            path = 'Models/ancoder_dense_0_epochs_3_neck_2_time_'\n",
        "            info = [0,64,0]\n",
        "        elif val == 'mod2':#mlai\\Models\\ancoder_dense_0_epochs_3_neck_2_time_1624556145.351937\n",
        "            path = 'Models/ancoder_dense_0_epochs_3_neck_2_time_'\n",
        "            info = [0,2,0]\n",
        "        else : #mlai\\Models\\ancoder_dense_0_epochs_3_neck_3_time_1624556280.213778\n",
        "            path = 'Models/ancoder_dense_0_epochs_3_neck_3_time_'\n",
        "            info = [0,3,0]\n",
        "    else:\n",
        "        print(\"Here\")\n",
        "        if val == 'mod1': #mlai\\Models\\ancoder_dense_0_epochs_3_neck_64_time_1624556327.7832968\n",
        "            print(\"YES IN!!!\")\n",
        "            path = 'Models/noice_20_ancoder_dense_3_epochs_10_neck_50_time_'\n",
        "            info = [0,64,0]\n",
        "        elif val == 'mod2':#mlai\\Models\\ancoder_dense_0_epochs_3_neck_2_time_1624556145.351937\n",
        "            path = 'Models/noice_5_ancoder_dense_0_epochs_3_neck_2_time_'\n",
        "            info = [0,2,0]\n",
        "        else : #mlai\\Models\\ancoder_dense_0_epochs_3_neck_3_time_1624556280.213778\n",
        "            path = 'Models/noice_5_ancoder_dense_0_epochs_3_neck_3_time_'\n",
        "            info = [0,3,0]\n",
        "        \n",
        "    emb_img = get_embidding_space(path,info[1])\n",
        "        \n",
        "    model = keras.models.load_model(path)\n",
        "    img = model.predict(img.reshape(-1,28,28,1))[0]\n",
        "    plt.imshow(img,cmap='gray')\n",
        "    graph = get_graph()\n",
        "    return (graph , emb_img,info)\n",
        "\n",
        "\n",
        "def get_graph():\n",
        "    \n",
        "    buffer = BytesIO()\n",
        "    plt.savefig(buffer,format='png')\n",
        "    buffer.seek(0)\n",
        "    img_png = buffer.getvalue()\n",
        "    graph = base64.b64encode(img_png)\n",
        "    graph = graph.decode('utf-8')\n",
        "    buffer.close()    \n",
        "    return graph\n",
        "        \n",
        "def get_Img(noice=False,noice_val = 5):\n",
        "    plt.switch_backend(\"AGG\")\n",
        "    (X_TRAIN,Y_TRAIN),(X_TEST,Y_TEST) = keras.datasets.mnist.load_data()\n",
        "    \n",
        "    ind = random.randint(0,len(X_TEST))\n",
        "    img = X_TEST[ind]/255.0\n",
        "    \n",
        "    if noice == True:\n",
        "        img = add_noise(img,random_chance = noice_val)\n",
        "        \n",
        "    \n",
        "    plt.imshow(img,cmap='gray')\n",
        "    graph = get_graph()\n",
        "    return (graph,img)\n",
        "\n",
        "\n",
        "\n",
        "\n",
        "\n",
        "\n",
        "\n",
        "\n",
        "# testing\n",
        "\n",
        "# (X_TRAIN,Y_TRAIN),(X_TEST,Y_TEST) = tf.keras.datasets.mnist.load_data()\n",
        "\n",
        "# x_train = X_TRAIN/255.0\n",
        "# x_test = X_TEST/255.0\n",
        "\n",
        "# autoencoder = AutoEncoder()\n",
        "\n",
        "# autoencoder = autoencoder.Autoencoder(x_train,x_train)\n",
        "\n",
        "# n_x = x_train[0]\n",
        "# plt.imshow(n_x,cmap='gray')\n",
        "# plt.show()\n",
        "\n",
        "\n",
        "# auto_enco = autoencoder.predict(n_x.reshape(-1,28,28,1))[0]\n",
        "# plt.imshow(auto_enco,cmap='gray')\n",
        "# plt.show()\n",
        "# auto_enco = auto_enco>0.3\n",
        "# plt.imshow(auto_enco,cmap='gray')\n",
        "# plt.show()\n",
        "\n"
      ],
      "execution_count": 2,
      "outputs": []
    },
    {
      "cell_type": "code",
      "metadata": {
        "id": "Y4wDmiHjGJgs"
      },
      "source": [
        ""
      ],
      "execution_count": 2,
      "outputs": []
    },
    {
      "cell_type": "code",
      "metadata": {
        "colab": {
          "base_uri": "https://localhost:8080/"
        },
        "id": "rwi-r3dcGJgs",
        "outputId": "6a8af426-8c56-4d7a-d65b-03546796ee02"
      },
      "source": [
        "(X_TRAIN,Y_TRAIN),(X_TEST,Y_TEST) = keras.datasets.mnist.load_data()\n"
      ],
      "execution_count": 3,
      "outputs": [
        {
          "output_type": "stream",
          "text": [
            "Downloading data from https://storage.googleapis.com/tensorflow/tf-keras-datasets/mnist.npz\n",
            "11493376/11490434 [==============================] - 0s 0us/step\n"
          ],
          "name": "stdout"
        }
      ]
    },
    {
      "cell_type": "code",
      "metadata": {
        "id": "nPaaCUNbGJgs"
      },
      "source": [
        "train_on=1"
      ],
      "execution_count": 4,
      "outputs": []
    },
    {
      "cell_type": "code",
      "metadata": {
        "id": "gOgqzKNuGJgt"
      },
      "source": [
        "X_TRAIN = X_TRAIN/255.0\n",
        "X_TEST = X_TEST/255.0"
      ],
      "execution_count": 5,
      "outputs": []
    },
    {
      "cell_type": "code",
      "metadata": {
        "id": "ZRsmG4J4GJgt"
      },
      "source": [
        "x_train1 = (X_TRAIN[:int(len(X_TRAIN)*train_on)])"
      ],
      "execution_count": null,
      "outputs": []
    },
    {
      "cell_type": "code",
      "metadata": {
        "id": "kJjSab67GJgt"
      },
      "source": [
        "#x_train = add_noise(x_train1,random_chance=20)"
      ],
      "execution_count": null,
      "outputs": []
    },
    {
      "cell_type": "code",
      "metadata": {
        "id": "5dGEg77oGJgu",
        "outputId": "ec037d55-4a9f-4bec-9d84-6fc1c84c48fe"
      },
      "source": [
        "64*2*2*2"
      ],
      "execution_count": null,
      "outputs": [
        {
          "output_type": "execute_result",
          "data": {
            "text/plain": [
              "512"
            ]
          },
          "metadata": {
            "tags": []
          },
          "execution_count": 222
        }
      ]
    },
    {
      "cell_type": "code",
      "metadata": {
        "id": "PhEcyjKHGJgu",
        "outputId": "e026860a-a96d-4cd4-9370-7a6eeab582aa"
      },
      "source": [
        "save = True\n",
        "\n",
        "dense = 2\n",
        "dense_values = [512,128]#[64, 32, 16]\n",
        "output = 64\n",
        "epochs = 10\n",
        "\n",
        "name = \"Models/dense_{}_values_{}_output_{}_epochs_{}_\".format(dense,dense_values,output,epochs)\n",
        "auto_enco = AutoEncoder(dense=dense,output=output,epochs=epochs,dense_values=dense_values)\n",
        "\n",
        "mod = auto_enco.Autoencoder(x_train1,x_train1)    \n"
      ],
      "execution_count": null,
      "outputs": [
        {
          "output_type": "stream",
          "text": [
            "Model: \"model_58\"\n",
            "_________________________________________________________________\n",
            "Layer (type)                 Output Shape              Param #   \n",
            "=================================================================\n",
            "input_30 (InputLayer)        [(None, 28, 28, 1)]       0         \n",
            "_________________________________________________________________\n",
            "flatten_29 (Flatten)         (None, 784)               0         \n",
            "_________________________________________________________________\n",
            "dense_102 (Dense)            (None, 512)               401920    \n",
            "_________________________________________________________________\n",
            "dense_103 (Dense)            (None, 128)               65664     \n",
            "_________________________________________________________________\n",
            "dense_104 (Dense)            (None, 64)                8256      \n",
            "_________________________________________________________________\n",
            "dense_105 (Dense)            (None, 128)               8320      \n",
            "_________________________________________________________________\n",
            "dense_106 (Dense)            (None, 512)               66048     \n",
            "_________________________________________________________________\n",
            "dense_107 (Dense)            (None, 784)               402192    \n",
            "_________________________________________________________________\n",
            "reshape_29 (Reshape)         (None, 28, 28, 1)         0         \n",
            "=================================================================\n",
            "Total params: 952,400\n",
            "Trainable params: 952,400\n",
            "Non-trainable params: 0\n",
            "_________________________________________________________________\n",
            "None\n",
            "Ceating...\n",
            "Epoch 1/10\n",
            "1875/1875 [==============================] - 28s 14ms/step - loss: 0.0245\n",
            "Epoch 2/10\n",
            "1875/1875 [==============================] - 22s 12ms/step - loss: 0.0104\n",
            "Epoch 3/10\n",
            "1875/1875 [==============================] - 23s 12ms/step - loss: 0.0091\n",
            "Epoch 4/10\n",
            "1875/1875 [==============================] - 24s 13ms/step - loss: 0.0084\n",
            "Epoch 5/10\n",
            "1875/1875 [==============================] - 21s 11ms/step - loss: 0.0079\n",
            "Epoch 6/10\n",
            "1875/1875 [==============================] - 25s 13ms/step - loss: 0.0076\n",
            "Epoch 7/10\n",
            "1875/1875 [==============================] - 28s 15ms/step - loss: 0.0074\n",
            "Epoch 8/10\n",
            "1875/1875 [==============================] - 22s 12ms/step - loss: 0.0072\n",
            "Epoch 9/10\n",
            "1875/1875 [==============================] - 28s 15ms/step - loss: 0.0070\n",
            "Epoch 10/10\n",
            "1875/1875 [==============================] - 26s 14ms/step - loss: 0.0069\n"
          ],
          "name": "stdout"
        }
      ]
    },
    {
      "cell_type": "code",
      "metadata": {
        "id": "kEpjukpqGJgv",
        "outputId": "3b763d6d-3840-489f-ac78-a155716199aa"
      },
      "source": [
        "mod[0].save(name)"
      ],
      "execution_count": null,
      "outputs": [
        {
          "output_type": "stream",
          "text": [
            "INFO:tensorflow:Assets written to: Models/dense_2_values_[512, 128]_output_64_epochs_10_\\assets\n"
          ],
          "name": "stdout"
        }
      ]
    },
    {
      "cell_type": "code",
      "metadata": {
        "id": "PwbYsVA3GJgv",
        "outputId": "a3bf7ca1-1a8f-4478-ad28-2f1267a7d596"
      },
      "source": [
        "rows = 5\n",
        "fig,axs = plt.subplots(rows,2,figsize=(15,15))\n",
        "\n",
        "for i in range(len(X_TEST[:rows])):\n",
        "    \n",
        "    values = X_TEST[i]\n",
        "    \n",
        "    axs[i,0].imshow(values,cmap='gray')\n",
        "    img = mod[0].predict(values.reshape(-1,28,28,1))[0]\n",
        "    axs[i,1].imshow(img,cmap='gray')\n",
        "    \n",
        "   \n",
        "    "
      ],
      "execution_count": null,
      "outputs": [
        {
          "output_type": "stream",
          "text": [
            "WARNING:tensorflow:7 out of the last 11 calls to <function Model.make_predict_function.<locals>.predict_function at 0x00000259583695E0> triggered tf.function retracing. Tracing is expensive and the excessive number of tracings could be due to (1) creating @tf.function repeatedly in a loop, (2) passing tensors with different shapes, (3) passing Python objects instead of tensors. For (1), please define your @tf.function outside of the loop. For (2), @tf.function has experimental_relax_shapes=True option that relaxes argument shapes that can avoid unnecessary retracing. For (3), please refer to https://www.tensorflow.org/guide/function#controlling_retracing and https://www.tensorflow.org/api_docs/python/tf/function for  more details.\n"
          ],
          "name": "stdout"
        },
        {
          "output_type": "display_data",
          "data": {
            "image/png": "[encoded data removed]",
            "text/plain": [
              "<Figure size 1080x1080 with 10 Axes>"
            ]
          },
          "metadata": {
            "tags": [],
            "needs_background": "light"
          }
        }
      ]
    },
    {
      "cell_type": "code",
      "metadata": {
        "id": "F1sdWGbYGJgv"
      },
      "source": [
        ""
      ],
      "execution_count": null,
      "outputs": []
    },
    {
      "cell_type": "code",
      "metadata": {
        "id": "ZCyKdG-NGJgv"
      },
      "source": [
        "from os import walk\n",
        "import warnings\n",
        "warnings.filterwarnings( \"ignore\", message = \"WARNING\", )\n",
        "def compare_models(mypath,img):\n",
        "    \n",
        "\n",
        "    f = []\n",
        "    for (dirpath, dirnames, filenames) in walk(mypath):\n",
        "        f.extend(dirnames)\n",
        "        break\n",
        "        \n",
        "   \n",
        "    fig,axe = plt.subplots(2,5,figsize=(15,15))\n",
        "    i = -1\n",
        "    j=0\n",
        "    count = 0\n",
        "    for path in f:\n",
        "        p =\"Models/\"+str(path)\n",
        "        if p== 'Models/dense_0_values_[64, 32, 16]_output_64_epochs_10_':\n",
        "            print(\"Trueeeeeeeeee\")\n",
        "        print(p)\n",
        "        model = keras.models.load_model(p)\n",
        "        img2 = model.predict(img.reshape(28,28).reshape(-1,28,28,1))[0]\n",
        "        j = count%5 \n",
        "        \n",
        "        if j==0:\n",
        "            i = i + 1\n",
        "       \n",
        "        axe[i,j].imshow(img2.reshape(28,28),cmap='gray')\n",
        "        count = count + 1\n",
        "        "
      ],
      "execution_count": 6,
      "outputs": []
    },
    {
      "cell_type": "code",
      "metadata": {
        "id": "G2JKZQdyGJgw"
      },
      "source": [
        "\n"
      ],
      "execution_count": null,
      "outputs": []
    },
    {
      "cell_type": "code",
      "metadata": {
        "id": "zKE_7FsUGJgw",
        "outputId": "7523ec01-f773-4f11-cacf-bdca923d2e0f"
      },
      "source": [
        ""
      ],
      "execution_count": null,
      "outputs": [
        {
          "output_type": "stream",
          "text": [
            "Models/dense_0_values_[64, 32, 16]_output_2_epochs_10_\n",
            "WARNING:tensorflow:7 out of the last 11 calls to <function Model.make_predict_function.<locals>.predict_function at 0x000002596B4F7F70> triggered tf.function retracing. Tracing is expensive and the excessive number of tracings could be due to (1) creating @tf.function repeatedly in a loop, (2) passing tensors with different shapes, (3) passing Python objects instead of tensors. For (1), please define your @tf.function outside of the loop. For (2), @tf.function has experimental_relax_shapes=True option that relaxes argument shapes that can avoid unnecessary retracing. For (3), please refer to https://www.tensorflow.org/guide/function#controlling_retracing and https://www.tensorflow.org/api_docs/python/tf/function for  more details.\n",
            "Trueeeeeeeeee\n",
            "Models/dense_0_values_[64, 32, 16]_output_64_epochs_10_\n",
            "WARNING:tensorflow:7 out of the last 11 calls to <function Model.make_predict_function.<locals>.predict_function at 0x000002595831B9D0> triggered tf.function retracing. Tracing is expensive and the excessive number of tracings could be due to (1) creating @tf.function repeatedly in a loop, (2) passing tensors with different shapes, (3) passing Python objects instead of tensors. For (1), please define your @tf.function outside of the loop. For (2), @tf.function has experimental_relax_shapes=True option that relaxes argument shapes that can avoid unnecessary retracing. For (3), please refer to https://www.tensorflow.org/guide/function#controlling_retracing and https://www.tensorflow.org/api_docs/python/tf/function for  more details.\n",
            "Models/dense_2_values_[512, 128]_output_64_epochs_10_\n",
            "WARNING:tensorflow:7 out of the last 11 calls to <function Model.make_predict_function.<locals>.predict_function at 0x0000025959678A60> triggered tf.function retracing. Tracing is expensive and the excessive number of tracings could be due to (1) creating @tf.function repeatedly in a loop, (2) passing tensors with different shapes, (3) passing Python objects instead of tensors. For (1), please define your @tf.function outside of the loop. For (2), @tf.function has experimental_relax_shapes=True option that relaxes argument shapes that can avoid unnecessary retracing. For (3), please refer to https://www.tensorflow.org/guide/function#controlling_retracing and https://www.tensorflow.org/api_docs/python/tf/function for  more details.\n",
            "Models/dense_3_values_[512, 256, 128]_output_64_epochs_10_\n",
            "WARNING:tensorflow:7 out of the last 11 calls to <function Model.make_predict_function.<locals>.predict_function at 0x0000025959FE9A60> triggered tf.function retracing. Tracing is expensive and the excessive number of tracings could be due to (1) creating @tf.function repeatedly in a loop, (2) passing tensors with different shapes, (3) passing Python objects instead of tensors. For (1), please define your @tf.function outside of the loop. For (2), @tf.function has experimental_relax_shapes=True option that relaxes argument shapes that can avoid unnecessary retracing. For (3), please refer to https://www.tensorflow.org/guide/function#controlling_retracing and https://www.tensorflow.org/api_docs/python/tf/function for  more details.\n",
            "Models/dense_3_values_[64, 32, 16]_output_3_epochs_10_\n",
            "WARNING:tensorflow:7 out of the last 11 calls to <function Model.make_predict_function.<locals>.predict_function at 0x00000259583099D0> triggered tf.function retracing. Tracing is expensive and the excessive number of tracings could be due to (1) creating @tf.function repeatedly in a loop, (2) passing tensors with different shapes, (3) passing Python objects instead of tensors. For (1), please define your @tf.function outside of the loop. For (2), @tf.function has experimental_relax_shapes=True option that relaxes argument shapes that can avoid unnecessary retracing. For (3), please refer to https://www.tensorflow.org/guide/function#controlling_retracing and https://www.tensorflow.org/api_docs/python/tf/function for  more details.\n",
            "Models/dense_3_values_[64, 32, 16]_output_8_epochs_3_\n",
            "WARNING:tensorflow:7 out of the last 11 calls to <function Model.make_predict_function.<locals>.predict_function at 0x000002595C7F24C0> triggered tf.function retracing. Tracing is expensive and the excessive number of tracings could be due to (1) creating @tf.function repeatedly in a loop, (2) passing tensors with different shapes, (3) passing Python objects instead of tensors. For (1), please define your @tf.function outside of the loop. For (2), @tf.function has experimental_relax_shapes=True option that relaxes argument shapes that can avoid unnecessary retracing. For (3), please refer to https://www.tensorflow.org/guide/function#controlling_retracing and https://www.tensorflow.org/api_docs/python/tf/function for  more details.\n"
          ],
          "name": "stdout"
        },
        {
          "output_type": "display_data",
          "data": {
            "image/png": "[encoded data removed]",
            "text/plain": [
              "<Figure size 1080x1080 with 10 Axes>"
            ]
          },
          "metadata": {
            "tags": [],
            "needs_background": "light"
          }
        }
      ]
    },
    {
      "cell_type": "code",
      "metadata": {
        "id": "XZSgmOpAGJgw",
        "outputId": "48093826-b96b-46d2-cd01-496d6bfc66c0"
      },
      "source": [
        "m = keras.models.load_model(\"Models/dense_0_values_[64, 32, 16]_output_64_epochs_10_\")\n",
        "im = m.predict(X_TEST[1].reshape((-1,28,28,1)))[0]\n",
        "plt.imshow(im,cmap='gray')"
      ],
      "execution_count": null,
      "outputs": [
        {
          "output_type": "stream",
          "text": [
            "WARNING:tensorflow:7 out of the last 11 calls to <function Model.make_predict_function.<locals>.predict_function at 0x0000025969293280> triggered tf.function retracing. Tracing is expensive and the excessive number of tracings could be due to (1) creating @tf.function repeatedly in a loop, (2) passing tensors with different shapes, (3) passing Python objects instead of tensors. For (1), please define your @tf.function outside of the loop. For (2), @tf.function has experimental_relax_shapes=True option that relaxes argument shapes that can avoid unnecessary retracing. For (3), please refer to https://www.tensorflow.org/guide/function#controlling_retracing and https://www.tensorflow.org/api_docs/python/tf/function for  more details.\n"
          ],
          "name": "stdout"
        },
        {
          "output_type": "execute_result",
          "data": {
            "text/plain": [
              "<matplotlib.image.AxesImage at 0x25959ecc9a0>"
            ]
          },
          "metadata": {
            "tags": []
          },
          "execution_count": 218
        },
        {
          "output_type": "display_data",
          "data": {
            "image/png": "[encoded data removed]",
            "text/plain": [
              "<Figure size 432x288 with 1 Axes>"
            ]
          },
          "metadata": {
            "tags": [],
            "needs_background": "light"
          }
        }
      ]
    },
    {
      "cell_type": "code",
      "metadata": {
        "id": "XKs656eNGJgw"
      },
      "source": [
        ""
      ],
      "execution_count": null,
      "outputs": []
    },
    {
      "cell_type": "code",
      "metadata": {
        "id": "ce7Z36IPGJgw"
      },
      "source": [
        "from keras.layers import Dense,Conv2D,MaxPool2D,UpSampling2D,Input\n",
        "from keras import Model"
      ],
      "execution_count": 7,
      "outputs": []
    },
    {
      "cell_type": "code",
      "metadata": {
        "id": "Ox1brDjnOJ2B"
      },
      "source": [
        "Names = []"
      ],
      "execution_count": 8,
      "outputs": []
    },
    {
      "cell_type": "code",
      "metadata": {
        "id": "0ahBGMa0Tzow"
      },
      "source": [
        "Models = []"
      ],
      "execution_count": 9,
      "outputs": []
    },
    {
      "cell_type": "code",
      "metadata": {
        "id": "jGjXh-elGJgx"
      },
      "source": [
        "#Conv layer\n",
        "\n",
        "\n",
        "def Conv_Autoencoder(x_train,y_train,conv=1,shape_x=28, shape_y=28, conv_values = [], channel=1, filter_size=(3,3), pool_size=(2,2),epochs= 5,batch_size = 128,decay=1e-6):\n",
        "    \n",
        "    encoder_input = Input(shape=(shape_x,shape_y, channel))\n",
        "    #conv_layers = []\n",
        "    layers = []\n",
        "    shape = shape_x\n",
        "\n",
        "\n",
        "   \n",
        "\n",
        "    for i in range(conv):\n",
        "      \n",
        "        \n",
        "        shape = int(shape/2) # output of every new Conv would be 1/2 of prev by default\n",
        "        if shape % 2 !=0:\n",
        "          shape = shape + 1\n",
        "       \n",
        "      \n",
        "        if i == 0:\n",
        "            layer = Conv2D(shape,filter_size,activation='relu',padding='same')(encoder_input)\n",
        "        \n",
        "        else:\n",
        "            layer = Conv2D(shape,filter_size,activation='relu',padding='same')(layer)\n",
        "        \n",
        "        layer = MaxPool2D(pool_size = pool_size,padding='same')(layer)\n",
        "     \n",
        "        \n",
        "    \n",
        "    encoded = layer # last layer\n",
        "    encoder = Model(encoder_input, encoded)\n",
        "  \n",
        "    for i in range(conv):\n",
        "        \n",
        "        if i == 0:\n",
        "            layer = Conv2D(shape,filter_size,activation = 'relu',padding='same')(encoded)\n",
        "        else:\n",
        "            layer = Conv2D(shape,filter_size,activation = 'relu',padding='same')(layer)\n",
        "        \n",
        "        layer = UpSampling2D(pool_size)(layer)\n",
        "        shape = shape * 2\n",
        "        \n",
        "    \n",
        "    decoded = Conv2D(1, filter_size, activation = 'relu' ,padding = \"same\")(layer)\n",
        "    # ????\n",
        "    autoencoder = Model(encoder_input,decoded)\n",
        "    \n",
        "    optimizer = keras.optimizers.Adam(decay=decay)\n",
        "    autoencoder.compile( optimizer = optimizer , loss='mse')#loss = 'binary_crossentropy' )\n",
        "    \n",
        "    print(autoencoder.summary())\n",
        "    \n",
        "    autoencoder.fit(x_train,y_train,epochs=epochs,batch_size = batch_size )\n",
        "    name = \"Models/CNN_MODELS_epochs_{}_channel_{}_covlayer_{}_batch_size_{}_decay{}_\".format(epochs,channel,conv,batch_size,decay)\n",
        "    autoencoder.save(name)\n",
        "    Models.append(autoencoder)\n",
        "    Names.append(name)\n",
        "    return autoencoder\n",
        "        \n",
        "        \n",
        "        "
      ],
      "execution_count": 43,
      "outputs": []
    },
    {
      "cell_type": "code",
      "metadata": {
        "colab": {
          "base_uri": "https://localhost:8080/"
        },
        "id": "aupUHKAaGJgx",
        "outputId": "a86e4fe1-dce0-4670-d351-c0eab751341a"
      },
      "source": [
        "x = X_TRAIN#.reshape((len(X_TRAIN),28,28, 1))\n",
        "model = Conv_Autoencoder(x,x,conv=2,epochs=100)"
      ],
      "execution_count": 44,
      "outputs": [
        {
          "output_type": "stream",
          "text": [
            "Model: \"model_15\"\n",
            "_________________________________________________________________\n",
            "Layer (type)                 Output Shape              Param #   \n",
            "=================================================================\n",
            "input_8 (InputLayer)         [(None, 28, 28, 1)]       0         \n",
            "_________________________________________________________________\n",
            "conv2d_23 (Conv2D)           (None, 28, 28, 14)        140       \n",
            "_________________________________________________________________\n",
            "max_pooling2d_8 (MaxPooling2 (None, 14, 14, 14)        0         \n",
            "_________________________________________________________________\n",
            "conv2d_24 (Conv2D)           (None, 14, 14, 8)         1016      \n",
            "_________________________________________________________________\n",
            "max_pooling2d_9 (MaxPooling2 (None, 7, 7, 8)           0         \n",
            "_________________________________________________________________\n",
            "conv2d_25 (Conv2D)           (None, 7, 7, 8)           584       \n",
            "_________________________________________________________________\n",
            "up_sampling2d_8 (UpSampling2 (None, 14, 14, 8)         0         \n",
            "_________________________________________________________________\n",
            "conv2d_26 (Conv2D)           (None, 14, 14, 16)        1168      \n",
            "_________________________________________________________________\n",
            "up_sampling2d_9 (UpSampling2 (None, 28, 28, 16)        0         \n",
            "_________________________________________________________________\n",
            "conv2d_27 (Conv2D)           (None, 28, 28, 1)         145       \n",
            "=================================================================\n",
            "Total params: 3,053\n",
            "Trainable params: 3,053\n",
            "Non-trainable params: 0\n",
            "_________________________________________________________________\n",
            "None\n",
            "Epoch 1/100\n",
            "469/469 [==============================] - 3s 5ms/step - loss: 0.0313\n",
            "Epoch 2/100\n",
            "469/469 [==============================] - 2s 5ms/step - loss: 0.0076\n",
            "Epoch 3/100\n",
            "469/469 [==============================] - 2s 5ms/step - loss: 0.0064\n",
            "Epoch 4/100\n",
            "469/469 [==============================] - 2s 5ms/step - loss: 0.0058\n",
            "Epoch 5/100\n",
            "469/469 [==============================] - 2s 5ms/step - loss: 0.0054\n",
            "Epoch 6/100\n",
            "469/469 [==============================] - 2s 5ms/step - loss: 0.0051\n",
            "Epoch 7/100\n",
            "469/469 [==============================] - 2s 5ms/step - loss: 0.0049\n",
            "Epoch 8/100\n",
            "469/469 [==============================] - 2s 5ms/step - loss: 0.0047\n",
            "Epoch 9/100\n",
            "469/469 [==============================] - 2s 5ms/step - loss: 0.0046\n",
            "Epoch 10/100\n",
            "469/469 [==============================] - 2s 5ms/step - loss: 0.0045\n",
            "Epoch 11/100\n",
            "469/469 [==============================] - 2s 5ms/step - loss: 0.0043\n",
            "Epoch 12/100\n",
            "469/469 [==============================] - 2s 5ms/step - loss: 0.0042\n",
            "Epoch 13/100\n",
            "469/469 [==============================] - 2s 5ms/step - loss: 0.0041\n",
            "Epoch 14/100\n",
            "469/469 [==============================] - 2s 5ms/step - loss: 0.0041\n",
            "Epoch 15/100\n",
            "469/469 [==============================] - 2s 5ms/step - loss: 0.0040\n",
            "Epoch 16/100\n",
            "469/469 [==============================] - 2s 5ms/step - loss: 0.0040\n",
            "Epoch 17/100\n",
            "469/469 [==============================] - 2s 5ms/step - loss: 0.0039\n",
            "Epoch 18/100\n",
            "469/469 [==============================] - 2s 5ms/step - loss: 0.0038\n",
            "Epoch 19/100\n",
            "469/469 [==============================] - 2s 5ms/step - loss: 0.0038\n",
            "Epoch 20/100\n",
            "469/469 [==============================] - 2s 5ms/step - loss: 0.0038\n",
            "Epoch 21/100\n",
            "469/469 [==============================] - 2s 5ms/step - loss: 0.0037\n",
            "Epoch 22/100\n",
            "469/469 [==============================] - 2s 5ms/step - loss: 0.0037\n",
            "Epoch 23/100\n",
            "469/469 [==============================] - 2s 5ms/step - loss: 0.0037\n",
            "Epoch 24/100\n",
            "469/469 [==============================] - 2s 5ms/step - loss: 0.0037\n",
            "Epoch 25/100\n",
            "469/469 [==============================] - 2s 5ms/step - loss: 0.0036\n",
            "Epoch 26/100\n",
            "469/469 [==============================] - 2s 5ms/step - loss: 0.0036\n",
            "Epoch 27/100\n",
            "469/469 [==============================] - 2s 5ms/step - loss: 0.0036\n",
            "Epoch 28/100\n",
            "469/469 [==============================] - 2s 5ms/step - loss: 0.0035\n",
            "Epoch 29/100\n",
            "469/469 [==============================] - 2s 5ms/step - loss: 0.0035\n",
            "Epoch 30/100\n",
            "469/469 [==============================] - 2s 5ms/step - loss: 0.0035\n",
            "Epoch 31/100\n",
            "469/469 [==============================] - 2s 5ms/step - loss: 0.0035\n",
            "Epoch 32/100\n",
            "469/469 [==============================] - 2s 5ms/step - loss: 0.0035\n",
            "Epoch 33/100\n",
            "469/469 [==============================] - 2s 5ms/step - loss: 0.0035\n",
            "Epoch 34/100\n",
            "469/469 [==============================] - 2s 5ms/step - loss: 0.0034\n",
            "Epoch 35/100\n",
            "469/469 [==============================] - 2s 5ms/step - loss: 0.0034\n",
            "Epoch 36/100\n",
            "469/469 [==============================] - 2s 5ms/step - loss: 0.0034\n",
            "Epoch 37/100\n",
            "469/469 [==============================] - 2s 5ms/step - loss: 0.0034\n",
            "Epoch 38/100\n",
            "469/469 [==============================] - 2s 5ms/step - loss: 0.0034\n",
            "Epoch 39/100\n",
            "469/469 [==============================] - 2s 5ms/step - loss: 0.0034\n",
            "Epoch 40/100\n",
            "469/469 [==============================] - 2s 5ms/step - loss: 0.0034\n",
            "Epoch 41/100\n",
            "469/469 [==============================] - 2s 5ms/step - loss: 0.0034\n",
            "Epoch 42/100\n",
            "469/469 [==============================] - 2s 5ms/step - loss: 0.0034\n",
            "Epoch 43/100\n",
            "469/469 [==============================] - 2s 5ms/step - loss: 0.0033\n",
            "Epoch 44/100\n",
            "469/469 [==============================] - 2s 5ms/step - loss: 0.0033\n",
            "Epoch 45/100\n",
            "469/469 [==============================] - 2s 5ms/step - loss: 0.0033\n",
            "Epoch 46/100\n",
            "469/469 [==============================] - 2s 5ms/step - loss: 0.0033\n",
            "Epoch 47/100\n",
            "469/469 [==============================] - 2s 5ms/step - loss: 0.0033\n",
            "Epoch 48/100\n",
            "469/469 [==============================] - 2s 5ms/step - loss: 0.0033\n",
            "Epoch 49/100\n",
            "469/469 [==============================] - 2s 5ms/step - loss: 0.0033\n",
            "Epoch 50/100\n",
            "469/469 [==============================] - 2s 5ms/step - loss: 0.0033\n",
            "Epoch 51/100\n",
            "469/469 [==============================] - 2s 5ms/step - loss: 0.0033\n",
            "Epoch 52/100\n",
            "469/469 [==============================] - 2s 5ms/step - loss: 0.0033\n",
            "Epoch 53/100\n",
            "469/469 [==============================] - 2s 5ms/step - loss: 0.0033\n",
            "Epoch 54/100\n",
            "469/469 [==============================] - 2s 5ms/step - loss: 0.0033\n",
            "Epoch 55/100\n",
            "469/469 [==============================] - 2s 5ms/step - loss: 0.0033\n",
            "Epoch 56/100\n",
            "469/469 [==============================] - 2s 5ms/step - loss: 0.0032\n",
            "Epoch 57/100\n",
            "469/469 [==============================] - 2s 5ms/step - loss: 0.0032\n",
            "Epoch 58/100\n",
            "469/469 [==============================] - 2s 5ms/step - loss: 0.0032\n",
            "Epoch 59/100\n",
            "469/469 [==============================] - 2s 5ms/step - loss: 0.0032\n",
            "Epoch 60/100\n",
            "469/469 [==============================] - 2s 5ms/step - loss: 0.0032\n",
            "Epoch 61/100\n",
            "469/469 [==============================] - 2s 5ms/step - loss: 0.0032\n",
            "Epoch 62/100\n",
            "469/469 [==============================] - 2s 5ms/step - loss: 0.0032\n",
            "Epoch 63/100\n",
            "469/469 [==============================] - 2s 5ms/step - loss: 0.0032\n",
            "Epoch 64/100\n",
            "469/469 [==============================] - 2s 5ms/step - loss: 0.0032\n",
            "Epoch 65/100\n",
            "469/469 [==============================] - 2s 5ms/step - loss: 0.0032\n",
            "Epoch 66/100\n",
            "469/469 [==============================] - 2s 5ms/step - loss: 0.0032\n",
            "Epoch 67/100\n",
            "469/469 [==============================] - 2s 5ms/step - loss: 0.0032\n",
            "Epoch 68/100\n",
            "469/469 [==============================] - 2s 5ms/step - loss: 0.0032\n",
            "Epoch 69/100\n",
            "469/469 [==============================] - 2s 5ms/step - loss: 0.0032\n",
            "Epoch 70/100\n",
            "469/469 [==============================] - 2s 5ms/step - loss: 0.0032\n",
            "Epoch 71/100\n",
            "469/469 [==============================] - 2s 5ms/step - loss: 0.0031\n",
            "Epoch 72/100\n",
            "469/469 [==============================] - 2s 5ms/step - loss: 0.0031\n",
            "Epoch 73/100\n",
            "469/469 [==============================] - 2s 5ms/step - loss: 0.0031\n",
            "Epoch 74/100\n",
            "469/469 [==============================] - 2s 5ms/step - loss: 0.0031\n",
            "Epoch 75/100\n",
            "469/469 [==============================] - 2s 5ms/step - loss: 0.0031\n",
            "Epoch 76/100\n",
            "469/469 [==============================] - 2s 5ms/step - loss: 0.0031\n",
            "Epoch 77/100\n",
            "469/469 [==============================] - 2s 5ms/step - loss: 0.0031\n",
            "Epoch 78/100\n",
            "469/469 [==============================] - 2s 5ms/step - loss: 0.0031\n",
            "Epoch 79/100\n",
            "469/469 [==============================] - 2s 5ms/step - loss: 0.0031\n",
            "Epoch 80/100\n",
            "469/469 [==============================] - 2s 5ms/step - loss: 0.0031\n",
            "Epoch 81/100\n",
            "469/469 [==============================] - 2s 5ms/step - loss: 0.0031\n",
            "Epoch 82/100\n",
            "469/469 [==============================] - 2s 5ms/step - loss: 0.0031\n",
            "Epoch 83/100\n",
            "469/469 [==============================] - 2s 5ms/step - loss: 0.0031\n",
            "Epoch 84/100\n",
            "469/469 [==============================] - 2s 5ms/step - loss: 0.0031\n",
            "Epoch 85/100\n",
            "469/469 [==============================] - 2s 5ms/step - loss: 0.0031\n",
            "Epoch 86/100\n",
            "469/469 [==============================] - 2s 5ms/step - loss: 0.0031\n",
            "Epoch 87/100\n",
            "469/469 [==============================] - 2s 5ms/step - loss: 0.0031\n",
            "Epoch 88/100\n",
            "469/469 [==============================] - 2s 5ms/step - loss: 0.0031\n",
            "Epoch 89/100\n",
            "469/469 [==============================] - 2s 5ms/step - loss: 0.0031\n",
            "Epoch 90/100\n",
            "469/469 [==============================] - 2s 5ms/step - loss: 0.0031\n",
            "Epoch 91/100\n",
            "469/469 [==============================] - 2s 5ms/step - loss: 0.0031\n",
            "Epoch 92/100\n",
            "469/469 [==============================] - 2s 5ms/step - loss: 0.0030\n",
            "Epoch 93/100\n",
            "469/469 [==============================] - 2s 5ms/step - loss: 0.0030\n",
            "Epoch 94/100\n",
            "469/469 [==============================] - 2s 5ms/step - loss: 0.0030\n",
            "Epoch 95/100\n",
            "469/469 [==============================] - 2s 5ms/step - loss: 0.0030\n",
            "Epoch 96/100\n",
            "469/469 [==============================] - 2s 5ms/step - loss: 0.0030\n",
            "Epoch 97/100\n",
            "469/469 [==============================] - 2s 5ms/step - loss: 0.0030\n",
            "Epoch 98/100\n",
            "469/469 [==============================] - 2s 5ms/step - loss: 0.0030\n",
            "Epoch 99/100\n",
            "469/469 [==============================] - 2s 5ms/step - loss: 0.0030\n",
            "Epoch 100/100\n",
            "469/469 [==============================] - 2s 5ms/step - loss: 0.0030\n",
            "INFO:tensorflow:Assets written to: Models/CNN_MODELS_epochs_100_channel_1_covlayer_2_batch_size_128_decay1e-06_/assets\n"
          ],
          "name": "stdout"
        }
      ]
    },
    {
      "cell_type": "code",
      "metadata": {
        "id": "Ynd2pF1iGJgx"
      },
      "source": [
        "#!zip -r /content/file.zip /content/CNN_MODELS_epochs_5_channel_1_covlayer_1_batch_size_128_"
      ],
      "execution_count": null,
      "outputs": []
    },
    {
      "cell_type": "code",
      "metadata": {
        "colab": {
          "base_uri": "https://localhost:8080/",
          "height": 557
        },
        "id": "X1mPgF-nR7Wy",
        "outputId": "97b7b33b-8503-421f-9d61-6062dbccace3"
      },
      "source": [
        "\n",
        "\n",
        "count = 0\n",
        "lig = []\n",
        "print(Names)\n",
        "print(len(Models))\n",
        "for models in Models:\n",
        "  \n",
        "  print(count,Names[count],models.history.history.keys())\n",
        "  try:\n",
        "    loss = models.history.history['loss']\n",
        "    ep = models.history.epoch\n",
        "    lig.append(count)\n",
        "    \n",
        "    plt.plot(ep,loss)\n",
        "  except:\n",
        "    print(\"Error : \",count)\n",
        "    pass\n",
        "  count = count + 1\n",
        "plt.legend(lig)\n",
        "#model.history.epoch"
      ],
      "execution_count": 45,
      "outputs": [
        {
          "output_type": "stream",
          "text": [
            "['Models/CNN_MODELS_epochs_5_channel_1_covlayer_1_batch_size_128_', 'Models/CNN_MODELS_epochs_10_channel_1_covlayer_1_batch_size_128_', 'Models/CNN_MODELS_epochs_10_channel_1_covlayer_1_batch_size_128_decay1e-06_', 'Models/CNN_MODELS_epochs_50_channel_1_covlayer_1_batch_size_128_decay1e-06_', 'Models/CNN_MODELS_epochs_100_channel_1_covlayer_2_batch_size_128_decay1e-06_', 'Models/CNN_MODELS_epochs_50_channel_1_covlayer_1_batch_size_128_decay1e-06_', 'Models/CNN_MODELS_epochs_100_channel_1_covlayer_2_batch_size_128_decay1e-06_']\n",
            "7\n",
            "0 Models/CNN_MODELS_epochs_5_channel_1_covlayer_1_batch_size_128_ dict_keys([])\n",
            "Error :  0\n",
            "1 Models/CNN_MODELS_epochs_10_channel_1_covlayer_1_batch_size_128_ dict_keys(['loss'])\n",
            "2 Models/CNN_MODELS_epochs_10_channel_1_covlayer_1_batch_size_128_decay1e-06_ dict_keys([])\n",
            "Error :  2\n",
            "3 Models/CNN_MODELS_epochs_50_channel_1_covlayer_1_batch_size_128_decay1e-06_ dict_keys([])\n",
            "Error :  3\n",
            "4 Models/CNN_MODELS_epochs_100_channel_1_covlayer_2_batch_size_128_decay1e-06_ dict_keys([])\n",
            "Error :  4\n",
            "5 Models/CNN_MODELS_epochs_50_channel_1_covlayer_1_batch_size_128_decay1e-06_ dict_keys([])\n",
            "Error :  5\n",
            "6 Models/CNN_MODELS_epochs_100_channel_1_covlayer_2_batch_size_128_decay1e-06_ dict_keys(['loss'])\n"
          ],
          "name": "stdout"
        },
        {
          "output_type": "execute_result",
          "data": {
            "text/plain": [
              "<matplotlib.legend.Legend at 0x7f92c23fd490>"
            ]
          },
          "metadata": {
            "tags": []
          },
          "execution_count": 45
        },
        {
          "output_type": "display_data",
          "data": {
            "image/png": "[encoded data removed]",
            "text/plain": [
              "<Figure size 432x288 with 1 Axes>"
            ]
          },
          "metadata": {
            "tags": [],
            "needs_background": "light"
          }
        }
      ]
    },
    {
      "cell_type": "code",
      "metadata": {
        "id": "pHrTrl2CUqhg",
        "colab": {
          "base_uri": "https://localhost:8080/"
        },
        "outputId": "8cc514ab-7b72-4018-b3c9-f8e45a8ef2ce"
      },
      "source": [
        "Models\n"
      ],
      "execution_count": 20,
      "outputs": [
        {
          "output_type": "execute_result",
          "data": {
            "text/plain": [
              "[<keras.engine.functional.Functional at 0x7f931048eed0>,\n",
              " <keras.engine.functional.Functional at 0x7f92ae253e50>]"
            ]
          },
          "metadata": {
            "tags": []
          },
          "execution_count": 20
        }
      ]
    },
    {
      "cell_type": "code",
      "metadata": {
        "colab": {
          "base_uri": "https://localhost:8080/"
        },
        "id": "VZbMkXZaKoSA",
        "outputId": "31f7024e-4ee4-43bb-da3d-40e8b59787f1"
      },
      "source": [
        "# from google.colab import drive\n",
        "# drive.mount('/content/drive')"
      ],
      "execution_count": null,
      "outputs": [
        {
          "output_type": "stream",
          "text": [
            "Mounted at /content/drive\n"
          ],
          "name": "stdout"
        }
      ]
    },
    {
      "cell_type": "code",
      "metadata": {
        "colab": {
          "base_uri": "https://localhost:8080/"
        },
        "id": "NMjb8r2vO-CI",
        "outputId": "a24c37d3-fd10-4699-b31a-bf42f933ed95"
      },
      "source": [
        "X_TEST.shape"
      ],
      "execution_count": null,
      "outputs": [
        {
          "output_type": "execute_result",
          "data": {
            "text/plain": [
              "(10000, 28, 28)"
            ]
          },
          "metadata": {
            "tags": []
          },
          "execution_count": 22
        }
      ]
    },
    {
      "cell_type": "code",
      "metadata": {
        "colab": {
          "base_uri": "https://localhost:8080/",
          "height": 1000
        },
        "id": "CCwNDgnkGJgx",
        "outputId": "c93a5c41-a68d-42b3-fd50-14d5846d76dc"
      },
      "source": [
        "rows = 10\n",
        "fig,axs = plt.subplots(rows,2,figsize=(15,15))\n",
        "\n",
        "for i in range(len(X_TEST[:rows])):\n",
        "    \n",
        "    values = X_TEST[i]\n",
        "    \n",
        "    axs[i,0].imshow(values,cmap='gray')\n",
        "    img = model.predict(values.reshape(-1,28,28,1))[0]\n",
        "    print(img.shape)\n",
        "    axs[i,1].imshow(img.reshape(28,28),cmap='gray')\n",
        "    \n",
        "   \n",
        "    "
      ],
      "execution_count": 46,
      "outputs": [
        {
          "output_type": "stream",
          "text": [
            "(28, 28, 1)\n",
            "(28, 28, 1)\n",
            "(28, 28, 1)\n",
            "(28, 28, 1)\n",
            "(28, 28, 1)\n",
            "(28, 28, 1)\n",
            "(28, 28, 1)\n",
            "(28, 28, 1)\n",
            "(28, 28, 1)\n",
            "(28, 28, 1)\n"
          ],
          "name": "stdout"
        },
        {
          "output_type": "display_data",
          "data": {
            "image/png": "[encoded data removed]",
            "text/plain": [
              "<Figure size 1080x1080 with 20 Axes>"
            ]
          },
          "metadata": {
            "tags": [],
            "needs_background": "light"
          }
        }
      ]
    },
    {
      "cell_type": "code",
      "metadata": {
        "colab": {
          "base_uri": "https://localhost:8080/",
          "height": 843
        },
        "id": "ouFXcRa-IM8g",
        "outputId": "24ba99e7-f759-4b4a-ac22-f96c58ec1b4b"
      },
      "source": [
        "values = X_TEST[1]\n",
        "compare_models(r\"/content/Models\",values)"
      ],
      "execution_count": 47,
      "outputs": [
        {
          "output_type": "stream",
          "text": [
            "Models/CNN_MODELS_epochs_5_channel_1_covlayer_1_batch_size_128_\n",
            "Models/CNN_MODELS_epochs_100_channel_1_covlayer_2_batch_size_128_decay1e-06_\n",
            "Models/CNN_MODELS_epochs_10_channel_1_covlayer_1_batch_size_128_\n",
            "Models/CNN_MODELS_epochs_10_channel_1_covlayer_1_batch_size_128_decay1e-06_\n",
            "Models/CNN_MODELS_epochs_50_channel_1_covlayer_1_batch_size_128_decay1e-06_\n"
          ],
          "name": "stdout"
        },
        {
          "output_type": "display_data",
          "data": {
            "image/png": "[encoded data removed]",
            "text/plain": [
              "<Figure size 1080x1080 with 10 Axes>"
            ]
          },
          "metadata": {
            "tags": [],
            "needs_background": "light"
          }
        }
      ]
    },
    {
      "cell_type": "code",
      "metadata": {
        "colab": {
          "base_uri": "https://localhost:8080/"
        },
        "id": "vCLFMrv0Qhlz",
        "outputId": "c5d6e378-85e2-433b-b21f-7503c8184cec"
      },
      "source": [
        "Names"
      ],
      "execution_count": null,
      "outputs": [
        {
          "output_type": "execute_result",
          "data": {
            "text/plain": [
              "['Models/CNN_MODELS_epochs_5_channel_1_covlayer_1_batch_size_128_']"
            ]
          },
          "metadata": {
            "tags": []
          },
          "execution_count": 37
        }
      ]
    },
    {
      "cell_type": "code",
      "metadata": {
        "id": "zzryvFNGQim-"
      },
      "source": [
        ""
      ],
      "execution_count": null,
      "outputs": []
    }
  ]
}