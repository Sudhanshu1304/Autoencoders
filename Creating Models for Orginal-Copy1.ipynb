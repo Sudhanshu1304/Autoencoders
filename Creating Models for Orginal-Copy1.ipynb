{
 "cells": [
  {
   "cell_type": "code",
   "execution_count": 1,
   "metadata": {},
   "outputs": [
    {
     "name": "stderr",
     "output_type": "stream",
     "text": [
      "Using TensorFlow backend.\n",
      "D:\\ANACONDA\\anaconda\\lib\\site-packages\\tensorflow\\python\\framework\\dtypes.py:516: FutureWarning: Passing (type, 1) or '1type' as a synonym of type is deprecated; in a future version of numpy, it will be understood as (type, (1,)) / '(1,)type'.\n",
      "  _np_qint8 = np.dtype([(\"qint8\", np.int8, 1)])\n",
      "D:\\ANACONDA\\anaconda\\lib\\site-packages\\tensorflow\\python\\framework\\dtypes.py:517: FutureWarning: Passing (type, 1) or '1type' as a synonym of type is deprecated; in a future version of numpy, it will be understood as (type, (1,)) / '(1,)type'.\n",
      "  _np_quint8 = np.dtype([(\"quint8\", np.uint8, 1)])\n",
      "D:\\ANACONDA\\anaconda\\lib\\site-packages\\tensorflow\\python\\framework\\dtypes.py:518: FutureWarning: Passing (type, 1) or '1type' as a synonym of type is deprecated; in a future version of numpy, it will be understood as (type, (1,)) / '(1,)type'.\n",
      "  _np_qint16 = np.dtype([(\"qint16\", np.int16, 1)])\n",
      "D:\\ANACONDA\\anaconda\\lib\\site-packages\\tensorflow\\python\\framework\\dtypes.py:519: FutureWarning: Passing (type, 1) or '1type' as a synonym of type is deprecated; in a future version of numpy, it will be understood as (type, (1,)) / '(1,)type'.\n",
      "  _np_quint16 = np.dtype([(\"quint16\", np.uint16, 1)])\n",
      "D:\\ANACONDA\\anaconda\\lib\\site-packages\\tensorflow\\python\\framework\\dtypes.py:520: FutureWarning: Passing (type, 1) or '1type' as a synonym of type is deprecated; in a future version of numpy, it will be understood as (type, (1,)) / '(1,)type'.\n",
      "  _np_qint32 = np.dtype([(\"qint32\", np.int32, 1)])\n",
      "D:\\ANACONDA\\anaconda\\lib\\site-packages\\tensorflow\\python\\framework\\dtypes.py:525: FutureWarning: Passing (type, 1) or '1type' as a synonym of type is deprecated; in a future version of numpy, it will be understood as (type, (1,)) / '(1,)type'.\n",
      "  np_resource = np.dtype([(\"resource\", np.ubyte, 1)])\n",
      "D:\\ANACONDA\\anaconda\\lib\\site-packages\\tensorboard\\compat\\tensorflow_stub\\dtypes.py:541: FutureWarning: Passing (type, 1) or '1type' as a synonym of type is deprecated; in a future version of numpy, it will be understood as (type, (1,)) / '(1,)type'.\n",
      "  _np_qint8 = np.dtype([(\"qint8\", np.int8, 1)])\n",
      "D:\\ANACONDA\\anaconda\\lib\\site-packages\\tensorboard\\compat\\tensorflow_stub\\dtypes.py:542: FutureWarning: Passing (type, 1) or '1type' as a synonym of type is deprecated; in a future version of numpy, it will be understood as (type, (1,)) / '(1,)type'.\n",
      "  _np_quint8 = np.dtype([(\"quint8\", np.uint8, 1)])\n",
      "D:\\ANACONDA\\anaconda\\lib\\site-packages\\tensorboard\\compat\\tensorflow_stub\\dtypes.py:543: FutureWarning: Passing (type, 1) or '1type' as a synonym of type is deprecated; in a future version of numpy, it will be understood as (type, (1,)) / '(1,)type'.\n",
      "  _np_qint16 = np.dtype([(\"qint16\", np.int16, 1)])\n",
      "D:\\ANACONDA\\anaconda\\lib\\site-packages\\tensorboard\\compat\\tensorflow_stub\\dtypes.py:544: FutureWarning: Passing (type, 1) or '1type' as a synonym of type is deprecated; in a future version of numpy, it will be understood as (type, (1,)) / '(1,)type'.\n",
      "  _np_quint16 = np.dtype([(\"quint16\", np.uint16, 1)])\n",
      "D:\\ANACONDA\\anaconda\\lib\\site-packages\\tensorboard\\compat\\tensorflow_stub\\dtypes.py:545: FutureWarning: Passing (type, 1) or '1type' as a synonym of type is deprecated; in a future version of numpy, it will be understood as (type, (1,)) / '(1,)type'.\n",
      "  _np_qint32 = np.dtype([(\"qint32\", np.int32, 1)])\n",
      "D:\\ANACONDA\\anaconda\\lib\\site-packages\\tensorboard\\compat\\tensorflow_stub\\dtypes.py:550: FutureWarning: Passing (type, 1) or '1type' as a synonym of type is deprecated; in a future version of numpy, it will be understood as (type, (1,)) / '(1,)type'.\n",
      "  np_resource = np.dtype([(\"resource\", np.ubyte, 1)])\n"
     ]
    }
   ],
   "source": [
    "%load_ext tensorboard\n",
    "from keras.callbacks import TensorBoard\n",
    "import time , os"
   ]
  },
  {
   "cell_type": "code",
   "execution_count": 2,
   "metadata": {},
   "outputs": [],
   "source": [
    "from tensorflow import keras\n",
    "from mpl_toolkits.mplot3d import Axes3D\n",
    "import matplotlib.pyplot as plt\n",
    "import time\n",
    "import base64\n",
    "from io import BytesIO\n",
    "import random\n",
    "import numpy as np\n",
    "\n",
    "class AutoEncoder:\n",
    "    \n",
    "    def __init__(self,shape_x=28,shape_y=28,channels=1,dense=0,dense_values=[64,32,16],output=64,lRate=0.001,epochs=3,batch_size=32) :\n",
    "        self.shape_x = shape_x\n",
    "        self.shape_y = shape_y\n",
    "        self.channels = channels\n",
    "        self.autoencoder = None\n",
    "        self.encoder = None\n",
    "        self.dense = dense\n",
    "        self.dense_values = dense_values\n",
    "        self.output = output\n",
    "        self.lRate = lRate\n",
    "        self.epochs = epochs\n",
    "        self.batch_size = batch_size\n",
    "        \n",
    "        (self.X_TRAIN,self.Y_TRAIN),(self.X_TEST,self.Y_TEST) = keras.datasets.mnist.load_data()\n",
    "    \n",
    "    def Autoencoder(self,x_data,y_data):\n",
    "        \n",
    "        # dense => No of Dense Layers\n",
    "        # dense_values = is a list of no of cell per dense layer by default they will get value nearest to perfect sq\n",
    "        # max hidden layer 3\n",
    "        # output is set to 64 for dense = 0\n",
    "        \n",
    "        # may be would add LSTM etc\n",
    "        \n",
    "        if self.dense > 3:\n",
    "            return 'Error- Chossen More than 3 dense layers!!!'\n",
    "        \n",
    "        \n",
    "        #  Encoder -- \n",
    "        \n",
    "        encoder_input = keras.Input((self.shape_x,self.shape_y,self.channels))\n",
    "        flaten = keras.layers.Flatten()(encoder_input)\n",
    "        \n",
    "        dense_layers = []\n",
    "        \n",
    "        if self.dense > 0:\n",
    "            for i in range(self.dense) :\n",
    "                \n",
    "                if i == 0 :\n",
    "                    layer = keras.layers.Dense(self.dense_values[i],activation='relu')(flaten)\n",
    "                else:\n",
    "                    layer = keras.layers.Dense(self.dense_values[i],activation='relu')(dense_layers[-1])\n",
    "                    \n",
    "                dense_layers.append(layer)\n",
    "            \n",
    "       \n",
    "        if len(dense_layers) == 0:\n",
    "            encoder_output = keras.layers.Dense(self.output)(flaten)\n",
    "        else:\n",
    "            encoder_output = keras.layers.Dense(self.output)(dense_layers[-1])\n",
    "        \n",
    "        # Encoder Model\n",
    "        self.encoder = keras.Model(encoder_input,encoder_output)\n",
    "        \n",
    "        # Decoder --\n",
    "        \n",
    "        decoder_layers = []\n",
    "        \n",
    "        if self.dense > 0:\n",
    "            for i in range(self.dense-1,-1,-1):\n",
    "                \n",
    "                if i == self.dense-1:\n",
    "                    layers = keras.layers.Dense(self.dense_values[i],activation='relu')(encoder_output)\n",
    "                else:\n",
    "                    layers = keras.layers.Dense(self.dense_values[i],activation='relu')(decoder_layers[-1])\n",
    "                    \n",
    "                decoder_layers.append(layers)\n",
    "                \n",
    "            \n",
    "        if self.dense == 0:\n",
    "            decoder_out = keras.layers.Dense(self.shape_x*self.shape_y,activation='relu')(encoder_output)\n",
    "            \n",
    "        else:\n",
    "            decoder_out = keras.layers.Dense(self.shape_x*self.shape_y,activation='relu')(decoder_layers[-1])\n",
    "            \n",
    "        decoder_output = keras.layers.Reshape((self.shape_x,self.shape_y,1))(decoder_out)\n",
    "        \n",
    "        optimizer = keras.optimizers.Adam(learning_rate = self.lRate,decay=1e-6)\n",
    "        \n",
    "        self.autoencoder = keras.Model(encoder_input,decoder_output)\n",
    "        self.autoencoder.compile(optimizer,loss='mse')\n",
    "        print(self.autoencoder.summary())\n",
    "        \n",
    "        print(\"Ceating...\")\n",
    "        name = 'model_dense_{}_iter_{}_layer_values_{}_time_{}'.format(self.dense,self.epochs,self.dense_values,int(time.time()))\n",
    "        name = os.path.join(\"logs\",name)\n",
    "        tb= TensorBoard(log_dir=name)\n",
    "\n",
    "        self.autoencoder.fit(x_data,y_data,epochs=self.epochs,batch_size=self.batch_size,callbacks=[tb])\n",
    "        \n",
    "        return (self.autoencoder , self.encoder)\n",
    "    \n",
    "        \n",
    "        \n",
    "    def SaveModel(self,noice,noice_val):\n",
    "        \n",
    "        if noice == True:\n",
    "            print(\"Savng Noice\")\n",
    "            name = \"Models/noice_{}_ancoder_dense_{}_epochs_{}_neck_{}_time_\".format(noice_val,self.dense,self.epochs,self.output,time.time())\n",
    "            self.autoencoder.save(name)\n",
    "            name = \"Models/noice_{}_ancoder_dense_{}_epochs_{}_neck_{}_time_enco\".format(noice_val,self.dense,self.epochs,self.output,time.time())\n",
    "            self.encoder.save(name)\n",
    "        else:\n",
    "            name = \"Models/ancoder_dense_{}_epochs_{}_neck_{}_time_\".format(self.dense,self.epochs,self.output,time.time())\n",
    "            self.autoencoder.save(name)\n",
    "            name = \"Models/ancoder_dense_{}_epochs_{}_neck_{}_time_enco\".format(self.dense,self.epochs,self.output,time.time())\n",
    "            self.encoder.save(name)\n",
    "        \n",
    "        \n",
    "        \n",
    "    \n",
    "    def train(self,object1,train_on = 1,save=False,noice=False,noice_val=5):\n",
    "        # % of data to train on \n",
    "        print('Saving :',save )\n",
    "        x_train = (self.X_TRAIN[:int(len(self.X_TRAIN)*train_on)])/255.0\n",
    "        \n",
    "        y_data = x_train\n",
    "        if noice == True:\n",
    "            y_data = x_train.copy()\n",
    "            for i in range(len(x_train)):\n",
    "                x_train[i] = add_noise(x_train[i],random_chance = noice_val)\n",
    "            \n",
    "                \n",
    "        object1.Autoencoder(x_train,x_train)    \n",
    "                                                                       \n",
    "        if save == True:\n",
    "            self.SaveModel(noice = noice,noice_val=noice_val)\n",
    "\n",
    "    \n",
    "    def test(self,img1=None):\n",
    "        \n",
    "        if img1 == None:\n",
    "            x_test = self.X_TEST/255.0\n",
    "            indx = random.randint(0,len(x_test))\n",
    "            img = x_test[indx]\n",
    "        else:\n",
    "            img = img1\n",
    "            \n",
    "            \n",
    "        plt.imshow(img,cmap='gray')\n",
    "        plt.show()\n",
    "        return self.autoencoder.predict(img.reshape(-1,28,28,1))[0]\n",
    "    \n",
    " \n",
    "\n",
    "\n",
    "\n",
    "\n",
    "def get_embidding_space(path,dim):\n",
    "    \n",
    "    plt.switch_backend(\"AGG\")\n",
    "    \n",
    "    path = path + \"enco\"\n",
    "    (X_TRAIN,Y_TRAIN),(X_TEST,Y_TEST) = keras.datasets.mnist.load_data()\n",
    "    x,sample_labels = select_images(X_TEST,Y_TEST,num_images=int(len(X_TEST)*0.98))\n",
    "    \n",
    "    model = keras.models.load_model(path)\n",
    "    latent_representations = model.predict(x)\n",
    "    \n",
    "    print(\"3333 DDDD ---- > : \",dim,latent_representations.shape)\n",
    "    \n",
    "    \n",
    "    if dim >= 2:\n",
    "        \n",
    "        plt.scatter(latent_representations[:, 0],\n",
    "                    latent_representations[:, 1],\n",
    "                    cmap=\"rainbow\",\n",
    "                    c=sample_labels,\n",
    "                    alpha=0.5,\n",
    "                    s=2)\n",
    "        plt.colorbar()\n",
    "        graph = get_graph()\n",
    "        \n",
    "    elif dim == 3 :\n",
    "        print(\"we are in \")\n",
    "\n",
    "        ax = plt.axes(projection='3d')\n",
    "        \n",
    "        ax.scatter3D(latent_representations[:, 0],\n",
    "                    latent_representations[:, 1],\n",
    "                    latent_representations[:, 2],\n",
    "                    # cmap=\"rainbow\",\n",
    "                    # c=sample_labels,\n",
    "                    # alpha=0.5,\n",
    "                    #s=2\n",
    "                    )\n",
    "        plt.colorbar()\n",
    "        graph = get_graph()\n",
    "    else:\n",
    "        graph = -1\n",
    "        \n",
    "        \n",
    "    return graph\n",
    "\n",
    "\n",
    "def add_noise(img, random_chance=5):\n",
    "    noisy = []\n",
    "    for row in img:\n",
    "        new_row = []\n",
    "        for pix in row:\n",
    "            if random.choice(range(100)) <= random_chance: \n",
    "                new_val = random.uniform(0, 1)\n",
    "                new_row.append(new_val)\n",
    "            else:\n",
    "                new_row.append(pix)\n",
    "        noisy.append(new_row)\n",
    "    return np.array(noisy)\n",
    "\n",
    "def plot_images_encoded_in_latent_space(latent_representations,sample_labels):\n",
    "    plt.figure(figsize=(10, 10))\n",
    "    plt.scatter(latent_representations[:, 0],\n",
    "                latent_representations[:, 1],\n",
    "                cmap=\"rainbow\",\n",
    "                c=sample_labels,\n",
    "                alpha=0.5,\n",
    "                s=2)\n",
    "    plt.colorbar()\n",
    "    plt.show()\n",
    "    \n",
    "\n",
    "def select_images(images, labels, num_images=10):\n",
    "    sample_images_index = np.random.choice(range(len(images)), num_images)\n",
    "    sample_images = images[sample_images_index]\n",
    "    sample_labels = labels[sample_images_index]\n",
    "    return sample_images, sample_labels\n",
    "\n",
    "    \n",
    "    \n",
    "    \n",
    "def predict(img,val,noice=False):\n",
    "    plt.switch_backend(\"AGG\") \n",
    "    \n",
    "    if noice == False : \n",
    "        if val == 'mod1': #mlai\\Models\\ancoder_dense_0_epochs_3_neck_64_time_1624556327.7832968\n",
    "            path = 'Models/ancoder_dense_0_epochs_3_neck_2_time_'\n",
    "            info = [0,64,0]\n",
    "        elif val == 'mod2':#mlai\\Models\\ancoder_dense_0_epochs_3_neck_2_time_1624556145.351937\n",
    "            path = 'Models/ancoder_dense_0_epochs_3_neck_2_time_'\n",
    "            info = [0,2,0]\n",
    "        else : #mlai\\Models\\ancoder_dense_0_epochs_3_neck_3_time_1624556280.213778\n",
    "            path = 'Models/ancoder_dense_0_epochs_3_neck_3_time_'\n",
    "            info = [0,3,0]\n",
    "    else:\n",
    "        print(\"Here\")\n",
    "        if val == 'mod1': #mlai\\Models\\ancoder_dense_0_epochs_3_neck_64_time_1624556327.7832968\n",
    "            print(\"YES IN!!!\")\n",
    "            path = 'Models/noice_20_ancoder_dense_3_epochs_10_neck_50_time_'\n",
    "            info = [0,64,0]\n",
    "        elif val == 'mod2':#mlai\\Models\\ancoder_dense_0_epochs_3_neck_2_time_1624556145.351937\n",
    "            path = 'Models/noice_5_ancoder_dense_0_epochs_3_neck_2_time_'\n",
    "            info = [0,2,0]\n",
    "        else : #mlai\\Models\\ancoder_dense_0_epochs_3_neck_3_time_1624556280.213778\n",
    "            path = 'Models/noice_5_ancoder_dense_0_epochs_3_neck_3_time_'\n",
    "            info = [0,3,0]\n",
    "        \n",
    "    emb_img = get_embidding_space(path,info[1])\n",
    "        \n",
    "    model = keras.models.load_model(path)\n",
    "    img = model.predict(img.reshape(-1,28,28,1))[0]\n",
    "    plt.imshow(img,cmap='gray')\n",
    "    graph = get_graph()\n",
    "    return (graph , emb_img,info)\n",
    "\n",
    "\n",
    "def get_graph():\n",
    "    \n",
    "    buffer = BytesIO()\n",
    "    plt.savefig(buffer,format='png')\n",
    "    buffer.seek(0)\n",
    "    img_png = buffer.getvalue()\n",
    "    graph = base64.b64encode(img_png)\n",
    "    graph = graph.decode('utf-8')\n",
    "    buffer.close()    \n",
    "    return graph\n",
    "        \n",
    "def get_Img(noice=False,noice_val = 5):\n",
    "    plt.switch_backend(\"AGG\")\n",
    "    (X_TRAIN,Y_TRAIN),(X_TEST,Y_TEST) = keras.datasets.mnist.load_data()\n",
    "    \n",
    "    ind = random.randint(0,len(X_TEST))\n",
    "    img = X_TEST[ind]/255.0\n",
    "    \n",
    "    if noice == True:\n",
    "        img = add_noise(img,random_chance = noice_val)\n",
    "        \n",
    "    \n",
    "    plt.imshow(img,cmap='gray')\n",
    "    graph = get_graph()\n",
    "    return (graph,img)\n",
    "\n",
    "\n",
    "\n",
    "\n",
    "\n",
    "\n",
    "\n",
    "\n",
    "# testing\n",
    "\n",
    "# (X_TRAIN,Y_TRAIN),(X_TEST,Y_TEST) = tf.keras.datasets.mnist.load_data()\n",
    "\n",
    "# x_train = X_TRAIN/255.0\n",
    "# x_test = X_TEST/255.0\n",
    "\n",
    "# autoencoder = AutoEncoder()\n",
    "\n",
    "# autoencoder = autoencoder.Autoencoder(x_train,x_train)\n",
    "\n",
    "# n_x = x_train[0]\n",
    "# plt.imshow(n_x,cmap='gray')\n",
    "# plt.show()\n",
    "\n",
    "\n",
    "# auto_enco = autoencoder.predict(n_x.reshape(-1,28,28,1))[0]\n",
    "# plt.imshow(auto_enco,cmap='gray')\n",
    "# plt.show()\n",
    "# auto_enco = auto_enco>0.3\n",
    "# plt.imshow(auto_enco,cmap='gray')\n",
    "# plt.show()\n",
    "\n"
   ]
  },
  {
   "cell_type": "code",
   "execution_count": null,
   "metadata": {},
   "outputs": [],
   "source": []
  },
  {
   "cell_type": "code",
   "execution_count": 3,
   "metadata": {},
   "outputs": [],
   "source": [
    "(X_TRAIN,Y_TRAIN),(X_TEST,Y_TEST) = keras.datasets.mnist.load_data()\n"
   ]
  },
  {
   "cell_type": "code",
   "execution_count": 4,
   "metadata": {},
   "outputs": [],
   "source": [
    "train_on=1"
   ]
  },
  {
   "cell_type": "code",
   "execution_count": 5,
   "metadata": {},
   "outputs": [],
   "source": [
    "X_TRAIN = X_TRAIN/255.0\n",
    "X_TEST = X_TEST/255.0"
   ]
  },
  {
   "cell_type": "code",
   "execution_count": 6,
   "metadata": {},
   "outputs": [],
   "source": [
    "x_train1 = (X_TRAIN[:int(len(X_TRAIN)*train_on)])"
   ]
  },
  {
   "cell_type": "code",
   "execution_count": 7,
   "metadata": {},
   "outputs": [],
   "source": [
    "#x_train = add_noise(x_train1,random_chance=20)"
   ]
  },
  {
   "cell_type": "code",
   "execution_count": 8,
   "metadata": {},
   "outputs": [
    {
     "data": {
      "text/plain": [
       "512"
      ]
     },
     "execution_count": 8,
     "metadata": {},
     "output_type": "execute_result"
    }
   ],
   "source": [
    "64*2*2*2"
   ]
  },
  {
   "cell_type": "code",
   "execution_count": 10,
   "metadata": {},
   "outputs": [
    {
     "name": "stdout",
     "output_type": "stream",
     "text": [
      "Model: \"model_3\"\n",
      "_________________________________________________________________\n",
      "Layer (type)                 Output Shape              Param #   \n",
      "=================================================================\n",
      "input_2 (InputLayer)         [(None, 28, 28, 1)]       0         \n",
      "_________________________________________________________________\n",
      "flatten_1 (Flatten)          (None, 784)               0         \n",
      "_________________________________________________________________\n",
      "dense_6 (Dense)              (None, 512)               401920    \n",
      "_________________________________________________________________\n",
      "dense_7 (Dense)              (None, 128)               65664     \n",
      "_________________________________________________________________\n",
      "dense_8 (Dense)              (None, 64)                8256      \n",
      "_________________________________________________________________\n",
      "dense_9 (Dense)              (None, 128)               8320      \n",
      "_________________________________________________________________\n",
      "dense_10 (Dense)             (None, 512)               66048     \n",
      "_________________________________________________________________\n",
      "dense_11 (Dense)             (None, 784)               402192    \n",
      "_________________________________________________________________\n",
      "reshape_1 (Reshape)          (None, 28, 28, 1)         0         \n",
      "=================================================================\n",
      "Total params: 952,400\n",
      "Trainable params: 952,400\n",
      "Non-trainable params: 0\n",
      "_________________________________________________________________\n",
      "None\n",
      "Ceating...\n"
     ]
    },
    {
     "ename": "ValueError",
     "evalue": "Error when checking input: expected input_2 to have shape (28, 28, 1) but got array with shape (60000, 28, 28)",
     "output_type": "error",
     "traceback": [
      "\u001b[1;31m---------------------------------------------------------------------------\u001b[0m",
      "\u001b[1;31mValueError\u001b[0m                                Traceback (most recent call last)",
      "\u001b[1;32m<ipython-input-10-cda5711c430c>\u001b[0m in \u001b[0;36m<module>\u001b[1;34m\u001b[0m\n\u001b[0;32m      9\u001b[0m \u001b[0mauto_enco\u001b[0m \u001b[1;33m=\u001b[0m \u001b[0mAutoEncoder\u001b[0m\u001b[1;33m(\u001b[0m\u001b[0mdense\u001b[0m\u001b[1;33m=\u001b[0m\u001b[0mdense\u001b[0m\u001b[1;33m,\u001b[0m\u001b[0moutput\u001b[0m\u001b[1;33m=\u001b[0m\u001b[0moutput\u001b[0m\u001b[1;33m,\u001b[0m\u001b[0mepochs\u001b[0m\u001b[1;33m=\u001b[0m\u001b[0mepochs\u001b[0m\u001b[1;33m,\u001b[0m\u001b[0mdense_values\u001b[0m\u001b[1;33m=\u001b[0m\u001b[0mdense_values\u001b[0m\u001b[1;33m)\u001b[0m\u001b[1;33m\u001b[0m\u001b[1;33m\u001b[0m\u001b[0m\n\u001b[0;32m     10\u001b[0m \u001b[0mimage\u001b[0m \u001b[1;33m=\u001b[0m \u001b[0mnp\u001b[0m\u001b[1;33m.\u001b[0m\u001b[0mexpand_dims\u001b[0m\u001b[1;33m(\u001b[0m\u001b[0mx_train1\u001b[0m\u001b[1;33m,\u001b[0m \u001b[0maxis\u001b[0m\u001b[1;33m=\u001b[0m\u001b[1;36m0\u001b[0m\u001b[1;33m)\u001b[0m\u001b[1;33m\u001b[0m\u001b[1;33m\u001b[0m\u001b[0m\n\u001b[1;32m---> 11\u001b[1;33m \u001b[0mmod\u001b[0m \u001b[1;33m=\u001b[0m \u001b[0mauto_enco\u001b[0m\u001b[1;33m.\u001b[0m\u001b[0mAutoencoder\u001b[0m\u001b[1;33m(\u001b[0m\u001b[0mimage\u001b[0m\u001b[1;33m,\u001b[0m\u001b[0mimage\u001b[0m\u001b[1;33m)\u001b[0m\u001b[1;33m\u001b[0m\u001b[1;33m\u001b[0m\u001b[0m\n\u001b[0m",
      "\u001b[1;32m<ipython-input-2-b1ae2dfb35b2>\u001b[0m in \u001b[0;36mAutoencoder\u001b[1;34m(self, x_data, y_data)\u001b[0m\n\u001b[0;32m     98\u001b[0m         \u001b[0mtb\u001b[0m\u001b[1;33m=\u001b[0m \u001b[0mTensorBoard\u001b[0m\u001b[1;33m(\u001b[0m\u001b[0mlog_dir\u001b[0m\u001b[1;33m=\u001b[0m\u001b[0mname\u001b[0m\u001b[1;33m)\u001b[0m\u001b[1;33m\u001b[0m\u001b[1;33m\u001b[0m\u001b[0m\n\u001b[0;32m     99\u001b[0m \u001b[1;33m\u001b[0m\u001b[0m\n\u001b[1;32m--> 100\u001b[1;33m         \u001b[0mself\u001b[0m\u001b[1;33m.\u001b[0m\u001b[0mautoencoder\u001b[0m\u001b[1;33m.\u001b[0m\u001b[0mfit\u001b[0m\u001b[1;33m(\u001b[0m\u001b[0mx_data\u001b[0m\u001b[1;33m,\u001b[0m\u001b[0my_data\u001b[0m\u001b[1;33m,\u001b[0m\u001b[0mepochs\u001b[0m\u001b[1;33m=\u001b[0m\u001b[0mself\u001b[0m\u001b[1;33m.\u001b[0m\u001b[0mepochs\u001b[0m\u001b[1;33m,\u001b[0m\u001b[0mbatch_size\u001b[0m\u001b[1;33m=\u001b[0m\u001b[0mself\u001b[0m\u001b[1;33m.\u001b[0m\u001b[0mbatch_size\u001b[0m\u001b[1;33m,\u001b[0m\u001b[0mcallbacks\u001b[0m\u001b[1;33m=\u001b[0m\u001b[1;33m[\u001b[0m\u001b[0mtb\u001b[0m\u001b[1;33m]\u001b[0m\u001b[1;33m)\u001b[0m\u001b[1;33m\u001b[0m\u001b[1;33m\u001b[0m\u001b[0m\n\u001b[0m\u001b[0;32m    101\u001b[0m \u001b[1;33m\u001b[0m\u001b[0m\n\u001b[0;32m    102\u001b[0m         \u001b[1;32mreturn\u001b[0m \u001b[1;33m(\u001b[0m\u001b[0mself\u001b[0m\u001b[1;33m.\u001b[0m\u001b[0mautoencoder\u001b[0m \u001b[1;33m,\u001b[0m \u001b[0mself\u001b[0m\u001b[1;33m.\u001b[0m\u001b[0mencoder\u001b[0m\u001b[1;33m)\u001b[0m\u001b[1;33m\u001b[0m\u001b[1;33m\u001b[0m\u001b[0m\n",
      "\u001b[1;32mD:\\ANACONDA\\anaconda\\lib\\site-packages\\tensorflow\\python\\keras\\engine\\training.py\u001b[0m in \u001b[0;36mfit\u001b[1;34m(self, x, y, batch_size, epochs, verbose, callbacks, validation_split, validation_data, shuffle, class_weight, sample_weight, initial_epoch, steps_per_epoch, validation_steps, validation_freq, max_queue_size, workers, use_multiprocessing, **kwargs)\u001b[0m\n\u001b[0;32m    707\u001b[0m         \u001b[0msteps\u001b[0m\u001b[1;33m=\u001b[0m\u001b[0msteps_per_epoch\u001b[0m\u001b[1;33m,\u001b[0m\u001b[1;33m\u001b[0m\u001b[1;33m\u001b[0m\u001b[0m\n\u001b[0;32m    708\u001b[0m         \u001b[0mvalidation_split\u001b[0m\u001b[1;33m=\u001b[0m\u001b[0mvalidation_split\u001b[0m\u001b[1;33m,\u001b[0m\u001b[1;33m\u001b[0m\u001b[1;33m\u001b[0m\u001b[0m\n\u001b[1;32m--> 709\u001b[1;33m         shuffle=shuffle)\n\u001b[0m\u001b[0;32m    710\u001b[0m \u001b[1;33m\u001b[0m\u001b[0m\n\u001b[0;32m    711\u001b[0m     \u001b[1;31m# Prepare validation data.\u001b[0m\u001b[1;33m\u001b[0m\u001b[1;33m\u001b[0m\u001b[1;33m\u001b[0m\u001b[0m\n",
      "\u001b[1;32mD:\\ANACONDA\\anaconda\\lib\\site-packages\\tensorflow\\python\\keras\\engine\\training.py\u001b[0m in \u001b[0;36m_standardize_user_data\u001b[1;34m(self, x, y, sample_weight, class_weight, batch_size, check_steps, steps_name, steps, validation_split, shuffle, extract_tensors_from_dataset)\u001b[0m\n\u001b[0;32m   2649\u001b[0m           \u001b[0mfeed_input_shapes\u001b[0m\u001b[1;33m,\u001b[0m\u001b[1;33m\u001b[0m\u001b[1;33m\u001b[0m\u001b[0m\n\u001b[0;32m   2650\u001b[0m           \u001b[0mcheck_batch_axis\u001b[0m\u001b[1;33m=\u001b[0m\u001b[1;32mFalse\u001b[0m\u001b[1;33m,\u001b[0m  \u001b[1;31m# Don't enforce the batch size.\u001b[0m\u001b[1;33m\u001b[0m\u001b[1;33m\u001b[0m\u001b[0m\n\u001b[1;32m-> 2651\u001b[1;33m           exception_prefix='input')\n\u001b[0m\u001b[0;32m   2652\u001b[0m \u001b[1;33m\u001b[0m\u001b[0m\n\u001b[0;32m   2653\u001b[0m     \u001b[1;32mif\u001b[0m \u001b[0my\u001b[0m \u001b[1;32mis\u001b[0m \u001b[1;32mnot\u001b[0m \u001b[1;32mNone\u001b[0m\u001b[1;33m:\u001b[0m\u001b[1;33m\u001b[0m\u001b[1;33m\u001b[0m\u001b[0m\n",
      "\u001b[1;32mD:\\ANACONDA\\anaconda\\lib\\site-packages\\tensorflow\\python\\keras\\engine\\training_utils.py\u001b[0m in \u001b[0;36mstandardize_input_data\u001b[1;34m(data, names, shapes, check_batch_axis, exception_prefix)\u001b[0m\n\u001b[0;32m    383\u001b[0m                              \u001b[1;34m': expected '\u001b[0m \u001b[1;33m+\u001b[0m \u001b[0mnames\u001b[0m\u001b[1;33m[\u001b[0m\u001b[0mi\u001b[0m\u001b[1;33m]\u001b[0m \u001b[1;33m+\u001b[0m \u001b[1;34m' to have shape '\u001b[0m \u001b[1;33m+\u001b[0m\u001b[1;33m\u001b[0m\u001b[1;33m\u001b[0m\u001b[0m\n\u001b[0;32m    384\u001b[0m                              \u001b[0mstr\u001b[0m\u001b[1;33m(\u001b[0m\u001b[0mshape\u001b[0m\u001b[1;33m)\u001b[0m \u001b[1;33m+\u001b[0m \u001b[1;34m' but got array with shape '\u001b[0m \u001b[1;33m+\u001b[0m\u001b[1;33m\u001b[0m\u001b[1;33m\u001b[0m\u001b[0m\n\u001b[1;32m--> 385\u001b[1;33m                              str(data_shape))\n\u001b[0m\u001b[0;32m    386\u001b[0m   \u001b[1;32mreturn\u001b[0m \u001b[0mdata\u001b[0m\u001b[1;33m\u001b[0m\u001b[1;33m\u001b[0m\u001b[0m\n\u001b[0;32m    387\u001b[0m \u001b[1;33m\u001b[0m\u001b[0m\n",
      "\u001b[1;31mValueError\u001b[0m: Error when checking input: expected input_2 to have shape (28, 28, 1) but got array with shape (60000, 28, 28)"
     ]
    }
   ],
   "source": [
    "save = True\n",
    "\n",
    "dense = 2\n",
    "dense_values = [512,128]#[64, 32, 16]\n",
    "output = 64\n",
    "epochs = 10\n",
    "\n",
    "name = \"Models/dense_{}_values_{}_output_{}_epochs_{}_\".format(dense,dense_values,output,epochs)\n",
    "auto_enco = AutoEncoder(dense=dense,output=output,epochs=epochs,dense_values=dense_values)\n",
    "image = np.expand_dims(x_train1, axis=0)\n",
    "mod = auto_enco.Autoencoder(image,image)    \n"
   ]
  },
  {
   "cell_type": "code",
   "execution_count": 230,
   "metadata": {},
   "outputs": [
    {
     "name": "stdout",
     "output_type": "stream",
     "text": [
      "INFO:tensorflow:Assets written to: Models/dense_2_values_[512, 128]_output_64_epochs_10_\\assets\n"
     ]
    }
   ],
   "source": [
    "mod[0].save(name)"
   ]
  },
  {
   "cell_type": "code",
   "execution_count": 231,
   "metadata": {},
   "outputs": [
    {
     "name": "stdout",
     "output_type": "stream",
     "text": [
      "WARNING:tensorflow:7 out of the last 11 calls to <function Model.make_predict_function.<locals>.predict_function at 0x00000259583695E0> triggered tf.function retracing. Tracing is expensive and the excessive number of tracings could be due to (1) creating @tf.function repeatedly in a loop, (2) passing tensors with different shapes, (3) passing Python objects instead of tensors. For (1), please define your @tf.function outside of the loop. For (2), @tf.function has experimental_relax_shapes=True option that relaxes argument shapes that can avoid unnecessary retracing. For (3), please refer to https://www.tensorflow.org/guide/function#controlling_retracing and https://www.tensorflow.org/api_docs/python/tf/function for  more details.\n"
     ]
    },
    {
     "data": {
      "image/png": "[encoded data removed]",
      "text/plain": [
       "<Figure size 1080x1080 with 10 Axes>"
      ]
     },
     "metadata": {
      "needs_background": "light"
     },
     "output_type": "display_data"
    }
   ],
   "source": [
    "rows = 5\n",
    "fig,axs = plt.subplots(rows,2,figsize=(15,15))\n",
    "\n",
    "for i in range(len(X_TEST[:rows])):\n",
    "    \n",
    "    values = X_TEST[i]\n",
    "    \n",
    "    axs[i,0].imshow(values,cmap='gray')\n",
    "    img = mod[0].predict(values.reshape(-1,28,28,1))[0]\n",
    "    axs[i,1].imshow(img,cmap='gray')\n",
    "    \n",
    "   \n",
    "    "
   ]
  },
  {
   "cell_type": "code",
   "execution_count": null,
   "metadata": {},
   "outputs": [],
   "source": []
  },
  {
   "cell_type": "code",
   "execution_count": 232,
   "metadata": {},
   "outputs": [],
   "source": [
    "from os import walk\n",
    "import warnings\n",
    "warnings.filterwarnings( \"ignore\", message = \"WARNING\", )\n",
    "def compare_models(mypath,img):\n",
    "    \n",
    "\n",
    "    f = []\n",
    "    for (dirpath, dirnames, filenames) in walk(mypath):\n",
    "        f.extend(dirnames)\n",
    "        break\n",
    "        \n",
    "   \n",
    "    fig,axe = plt.subplots(2,5,figsize=(15,15))\n",
    "    i = -1\n",
    "    j=0\n",
    "    count = 0\n",
    "    for path in f:\n",
    "        p =\"Models/\"+str(path)\n",
    "        if p== 'Models/dense_0_values_[64, 32, 16]_output_64_epochs_10_':\n",
    "            print(\"Trueeeeeeeeee\")\n",
    "        print(p)\n",
    "        model = keras.models.load_model(p)\n",
    "        img2 = model.predict(img.reshape(-1,28,28,1))[0]\n",
    "        j = count%5 \n",
    "        \n",
    "        if j==0:\n",
    "            i = i + 1\n",
    "       \n",
    "        axe[i,j].imshow(img2,cmap='gray')\n",
    "        count = count + 1\n",
    "        "
   ]
  },
  {
   "cell_type": "code",
   "execution_count": 233,
   "metadata": {},
   "outputs": [],
   "source": [
    "values = X_TEST[1]\n"
   ]
  },
  {
   "cell_type": "code",
   "execution_count": 234,
   "metadata": {},
   "outputs": [
    {
     "name": "stdout",
     "output_type": "stream",
     "text": [
      "Models/dense_0_values_[64, 32, 16]_output_2_epochs_10_\n",
      "WARNING:tensorflow:7 out of the last 11 calls to <function Model.make_predict_function.<locals>.predict_function at 0x000002596B4F7F70> triggered tf.function retracing. Tracing is expensive and the excessive number of tracings could be due to (1) creating @tf.function repeatedly in a loop, (2) passing tensors with different shapes, (3) passing Python objects instead of tensors. For (1), please define your @tf.function outside of the loop. For (2), @tf.function has experimental_relax_shapes=True option that relaxes argument shapes that can avoid unnecessary retracing. For (3), please refer to https://www.tensorflow.org/guide/function#controlling_retracing and https://www.tensorflow.org/api_docs/python/tf/function for  more details.\n",
      "Trueeeeeeeeee\n",
      "Models/dense_0_values_[64, 32, 16]_output_64_epochs_10_\n",
      "WARNING:tensorflow:7 out of the last 11 calls to <function Model.make_predict_function.<locals>.predict_function at 0x000002595831B9D0> triggered tf.function retracing. Tracing is expensive and the excessive number of tracings could be due to (1) creating @tf.function repeatedly in a loop, (2) passing tensors with different shapes, (3) passing Python objects instead of tensors. For (1), please define your @tf.function outside of the loop. For (2), @tf.function has experimental_relax_shapes=True option that relaxes argument shapes that can avoid unnecessary retracing. For (3), please refer to https://www.tensorflow.org/guide/function#controlling_retracing and https://www.tensorflow.org/api_docs/python/tf/function for  more details.\n",
      "Models/dense_2_values_[512, 128]_output_64_epochs_10_\n",
      "WARNING:tensorflow:7 out of the last 11 calls to <function Model.make_predict_function.<locals>.predict_function at 0x0000025959678A60> triggered tf.function retracing. Tracing is expensive and the excessive number of tracings could be due to (1) creating @tf.function repeatedly in a loop, (2) passing tensors with different shapes, (3) passing Python objects instead of tensors. For (1), please define your @tf.function outside of the loop. For (2), @tf.function has experimental_relax_shapes=True option that relaxes argument shapes that can avoid unnecessary retracing. For (3), please refer to https://www.tensorflow.org/guide/function#controlling_retracing and https://www.tensorflow.org/api_docs/python/tf/function for  more details.\n",
      "Models/dense_3_values_[512, 256, 128]_output_64_epochs_10_\n",
      "WARNING:tensorflow:7 out of the last 11 calls to <function Model.make_predict_function.<locals>.predict_function at 0x0000025959FE9A60> triggered tf.function retracing. Tracing is expensive and the excessive number of tracings could be due to (1) creating @tf.function repeatedly in a loop, (2) passing tensors with different shapes, (3) passing Python objects instead of tensors. For (1), please define your @tf.function outside of the loop. For (2), @tf.function has experimental_relax_shapes=True option that relaxes argument shapes that can avoid unnecessary retracing. For (3), please refer to https://www.tensorflow.org/guide/function#controlling_retracing and https://www.tensorflow.org/api_docs/python/tf/function for  more details.\n",
      "Models/dense_3_values_[64, 32, 16]_output_3_epochs_10_\n",
      "WARNING:tensorflow:7 out of the last 11 calls to <function Model.make_predict_function.<locals>.predict_function at 0x00000259583099D0> triggered tf.function retracing. Tracing is expensive and the excessive number of tracings could be due to (1) creating @tf.function repeatedly in a loop, (2) passing tensors with different shapes, (3) passing Python objects instead of tensors. For (1), please define your @tf.function outside of the loop. For (2), @tf.function has experimental_relax_shapes=True option that relaxes argument shapes that can avoid unnecessary retracing. For (3), please refer to https://www.tensorflow.org/guide/function#controlling_retracing and https://www.tensorflow.org/api_docs/python/tf/function for  more details.\n",
      "Models/dense_3_values_[64, 32, 16]_output_8_epochs_3_\n",
      "WARNING:tensorflow:7 out of the last 11 calls to <function Model.make_predict_function.<locals>.predict_function at 0x000002595C7F24C0> triggered tf.function retracing. Tracing is expensive and the excessive number of tracings could be due to (1) creating @tf.function repeatedly in a loop, (2) passing tensors with different shapes, (3) passing Python objects instead of tensors. For (1), please define your @tf.function outside of the loop. For (2), @tf.function has experimental_relax_shapes=True option that relaxes argument shapes that can avoid unnecessary retracing. For (3), please refer to https://www.tensorflow.org/guide/function#controlling_retracing and https://www.tensorflow.org/api_docs/python/tf/function for  more details.\n"
     ]
    },
    {
     "data": {
      "image/png": "[encoded data removed]",
      "text/plain": [
       "<Figure size 1080x1080 with 10 Axes>"
      ]
     },
     "metadata": {
      "needs_background": "light"
     },
     "output_type": "display_data"
    }
   ],
   "source": [
    "compare_models(r\"D:\\User\\Desktop\\MY APPS\\Autoencoder\\Autoencoders\\Models\",values)"
   ]
  },
  {
   "cell_type": "code",
   "execution_count": 218,
   "metadata": {},
   "outputs": [
    {
     "name": "stdout",
     "output_type": "stream",
     "text": [
      "WARNING:tensorflow:7 out of the last 11 calls to <function Model.make_predict_function.<locals>.predict_function at 0x0000025969293280> triggered tf.function retracing. Tracing is expensive and the excessive number of tracings could be due to (1) creating @tf.function repeatedly in a loop, (2) passing tensors with different shapes, (3) passing Python objects instead of tensors. For (1), please define your @tf.function outside of the loop. For (2), @tf.function has experimental_relax_shapes=True option that relaxes argument shapes that can avoid unnecessary retracing. For (3), please refer to https://www.tensorflow.org/guide/function#controlling_retracing and https://www.tensorflow.org/api_docs/python/tf/function for  more details.\n"
     ]
    },
    {
     "data": {
      "text/plain": [
       "<matplotlib.image.AxesImage at 0x25959ecc9a0>"
      ]
     },
     "execution_count": 218,
     "metadata": {},
     "output_type": "execute_result"
    },
    {
     "data": {
      "image/png": "[encoded data removed]",
      "text/plain": [
       "<Figure size 432x288 with 1 Axes>"
      ]
     },
     "metadata": {
      "needs_background": "light"
     },
     "output_type": "display_data"
    }
   ],
   "source": [
    "m = keras.models.load_model(\"Models/dense_0_values_[64, 32, 16]_output_64_epochs_10_\")\n",
    "im = m.predict(X_TEST[1].reshape((-1,28,28,1)))[0]\n",
    "plt.imshow(im,cmap='gray')"
   ]
  },
  {
   "cell_type": "code",
   "execution_count": null,
   "metadata": {},
   "outputs": [],
   "source": []
  },
  {
   "cell_type": "code",
   "execution_count": 236,
   "metadata": {},
   "outputs": [],
   "source": [
    "from keras.layers import Dense,Conv2D,MaxPool2D,UpSampling2D,Input"
   ]
  },
  {
   "cell_type": "code",
   "execution_count": 256,
   "metadata": {},
   "outputs": [],
   "source": [
    "#Conv layer\n",
    "\n",
    "\n",
    "def Conv_Autoencoder(x_train,y_train,conv=1,shape_x=28, shape_y=28, conv_values = [], channel=1, filter_size=(3,3), pool_size=(2,2),epochs= 5,batch_size = 128):\n",
    "    \n",
    "    encoder_input = Input(shape=(shape_x,shape_y,channel))\n",
    "    #conv_layers = []\n",
    "    \n",
    "    shape = shape_x\n",
    "    for i in range(conv):\n",
    "        \n",
    "        shape = int(shape/2) # output of every new Conv would be 1/2 of prev by default\n",
    "        if i == 0:\n",
    "            layer = Conv2D(shape,filter_size,activation='relu',padding='same')(encoder_input)\n",
    "        \n",
    "        else:\n",
    "            layer = Conv2D(shape,filter_size,activation='relu',padding='same')(layer)\n",
    "        \n",
    "        layer = MaxPool2D(pool_size = pool_size,padding='same')(layer)\n",
    "    \n",
    "    encoded = layer # last layer\n",
    "    encoder = keras.Model(encoder_input, encoded)\n",
    "    # Decoder\n",
    "    \n",
    "    for i in range(conv):\n",
    "        \n",
    "        if i == 0:\n",
    "            layer = Conv2D(shape,filter_size,activation = 'relu',padding='same')(encoded)\n",
    "        else:\n",
    "            layer = Conv2D(shape,filter_size,activation = 'relu',padding='same')(layer)\n",
    "        \n",
    "        layer = UpSampling2D(pool_size)(layer)\n",
    "        shape = shape * 2\n",
    "    \n",
    "    decoded = Conv2D(1, filter_size, activation = 'relu' ,padding = \"same\")(layer)\n",
    "    # ????\n",
    "    autoencoder = keras.Model(encoder_input,decoded)\n",
    "    \n",
    "    autoencoder.compile( optimizer = 'adam' , loss = 'binary_crossentropy' )\n",
    "    \n",
    "    print(autoencoder.summary())\n",
    "    \n",
    "    autoencoder.fit(x_train,y_train,epochs=epochs,batch_size = batch_size )\n",
    "        \n",
    "    return autoencoder\n",
    "        \n",
    "        \n",
    "        "
   ]
  },
  {
   "cell_type": "code",
   "execution_count": 257,
   "metadata": {},
   "outputs": [
    {
     "name": "stdout",
     "output_type": "stream",
     "text": [
      "Model: \"model_65\"\n",
      "_________________________________________________________________\n",
      "Layer (type)                 Output Shape              Param #   \n",
      "=================================================================\n",
      "input_40 (InputLayer)        [(None, 28, 28, 1)]       0         \n",
      "_________________________________________________________________\n",
      "conv2d_21 (Conv2D)           (None, 28, 28, 14)        140       \n",
      "_________________________________________________________________\n",
      "max_pooling2d_15 (MaxPooling (None, 14, 14, 14)        0         \n",
      "_________________________________________________________________\n",
      "conv2d_22 (Conv2D)           (None, 14, 14, 14)        1778      \n",
      "_________________________________________________________________\n",
      "up_sampling2d_2 (UpSampling2 (None, 28, 28, 14)        0         \n",
      "_________________________________________________________________\n",
      "conv2d_23 (Conv2D)           (None, 28, 28, 1)         127       \n",
      "=================================================================\n",
      "Total params: 2,045\n",
      "Trainable params: 2,045\n",
      "Non-trainable params: 0\n",
      "_________________________________________________________________\n",
      "None\n",
      "Epoch 1/5\n",
      "370/469 [======================>.......] - ETA: 13s - loss: 0.2128"
     ]
    },
    {
     "ename": "KeyboardInterrupt",
     "evalue": "",
     "output_type": "error",
     "traceback": [
      "\u001b[1;31m---------------------------------------------------------------------------\u001b[0m",
      "\u001b[1;31mKeyboardInterrupt\u001b[0m                         Traceback (most recent call last)",
      "\u001b[1;32m<ipython-input-257-4694d9d20962>\u001b[0m in \u001b[0;36m<module>\u001b[1;34m\u001b[0m\n\u001b[1;32m----> 1\u001b[1;33m \u001b[0mConv_Autoencoder\u001b[0m\u001b[1;33m(\u001b[0m\u001b[0mX_TRAIN\u001b[0m\u001b[1;33m,\u001b[0m\u001b[0mX_TRAIN\u001b[0m\u001b[1;33m)\u001b[0m\u001b[1;33m\u001b[0m\u001b[1;33m\u001b[0m\u001b[0m\n\u001b[0m",
      "\u001b[1;32m<ipython-input-256-40c8623e02ad>\u001b[0m in \u001b[0;36mConv_Autoencoder\u001b[1;34m(x_train, y_train, conv, shape_x, shape_y, conv_values, channel, filter_size, pool_size, epochs, batch_size)\u001b[0m\n\u001b[0;32m     41\u001b[0m     \u001b[0mprint\u001b[0m\u001b[1;33m(\u001b[0m\u001b[0mautoencoder\u001b[0m\u001b[1;33m.\u001b[0m\u001b[0msummary\u001b[0m\u001b[1;33m(\u001b[0m\u001b[1;33m)\u001b[0m\u001b[1;33m)\u001b[0m\u001b[1;33m\u001b[0m\u001b[1;33m\u001b[0m\u001b[0m\n\u001b[0;32m     42\u001b[0m \u001b[1;33m\u001b[0m\u001b[0m\n\u001b[1;32m---> 43\u001b[1;33m     \u001b[0mautoencoder\u001b[0m\u001b[1;33m.\u001b[0m\u001b[0mfit\u001b[0m\u001b[1;33m(\u001b[0m\u001b[0mx_train\u001b[0m\u001b[1;33m,\u001b[0m\u001b[0my_train\u001b[0m\u001b[1;33m,\u001b[0m\u001b[0mepochs\u001b[0m\u001b[1;33m=\u001b[0m\u001b[0mepochs\u001b[0m\u001b[1;33m,\u001b[0m\u001b[0mbatch_size\u001b[0m \u001b[1;33m=\u001b[0m \u001b[0mbatch_size\u001b[0m \u001b[1;33m)\u001b[0m\u001b[1;33m\u001b[0m\u001b[1;33m\u001b[0m\u001b[0m\n\u001b[0m\u001b[0;32m     44\u001b[0m \u001b[1;33m\u001b[0m\u001b[0m\n\u001b[0;32m     45\u001b[0m     \u001b[1;32mreturn\u001b[0m \u001b[0mautoencoder\u001b[0m\u001b[1;33m\u001b[0m\u001b[1;33m\u001b[0m\u001b[0m\n",
      "\u001b[1;32m~\\anaconda3\\lib\\site-packages\\tensorflow\\python\\keras\\engine\\training.py\u001b[0m in \u001b[0;36mfit\u001b[1;34m(self, x, y, batch_size, epochs, verbose, callbacks, validation_split, validation_data, shuffle, class_weight, sample_weight, initial_epoch, steps_per_epoch, validation_steps, validation_batch_size, validation_freq, max_queue_size, workers, use_multiprocessing)\u001b[0m\n\u001b[0;32m   1098\u001b[0m                 _r=1):\n\u001b[0;32m   1099\u001b[0m               \u001b[0mcallbacks\u001b[0m\u001b[1;33m.\u001b[0m\u001b[0mon_train_batch_begin\u001b[0m\u001b[1;33m(\u001b[0m\u001b[0mstep\u001b[0m\u001b[1;33m)\u001b[0m\u001b[1;33m\u001b[0m\u001b[1;33m\u001b[0m\u001b[0m\n\u001b[1;32m-> 1100\u001b[1;33m               \u001b[0mtmp_logs\u001b[0m \u001b[1;33m=\u001b[0m \u001b[0mself\u001b[0m\u001b[1;33m.\u001b[0m\u001b[0mtrain_function\u001b[0m\u001b[1;33m(\u001b[0m\u001b[0miterator\u001b[0m\u001b[1;33m)\u001b[0m\u001b[1;33m\u001b[0m\u001b[1;33m\u001b[0m\u001b[0m\n\u001b[0m\u001b[0;32m   1101\u001b[0m               \u001b[1;32mif\u001b[0m \u001b[0mdata_handler\u001b[0m\u001b[1;33m.\u001b[0m\u001b[0mshould_sync\u001b[0m\u001b[1;33m:\u001b[0m\u001b[1;33m\u001b[0m\u001b[1;33m\u001b[0m\u001b[0m\n\u001b[0;32m   1102\u001b[0m                 \u001b[0mcontext\u001b[0m\u001b[1;33m.\u001b[0m\u001b[0masync_wait\u001b[0m\u001b[1;33m(\u001b[0m\u001b[1;33m)\u001b[0m\u001b[1;33m\u001b[0m\u001b[1;33m\u001b[0m\u001b[0m\n",
      "\u001b[1;32m~\\anaconda3\\lib\\site-packages\\tensorflow\\python\\eager\\def_function.py\u001b[0m in \u001b[0;36m__call__\u001b[1;34m(self, *args, **kwds)\u001b[0m\n\u001b[0;32m    826\u001b[0m     \u001b[0mtracing_count\u001b[0m \u001b[1;33m=\u001b[0m \u001b[0mself\u001b[0m\u001b[1;33m.\u001b[0m\u001b[0mexperimental_get_tracing_count\u001b[0m\u001b[1;33m(\u001b[0m\u001b[1;33m)\u001b[0m\u001b[1;33m\u001b[0m\u001b[1;33m\u001b[0m\u001b[0m\n\u001b[0;32m    827\u001b[0m     \u001b[1;32mwith\u001b[0m \u001b[0mtrace\u001b[0m\u001b[1;33m.\u001b[0m\u001b[0mTrace\u001b[0m\u001b[1;33m(\u001b[0m\u001b[0mself\u001b[0m\u001b[1;33m.\u001b[0m\u001b[0m_name\u001b[0m\u001b[1;33m)\u001b[0m \u001b[1;32mas\u001b[0m \u001b[0mtm\u001b[0m\u001b[1;33m:\u001b[0m\u001b[1;33m\u001b[0m\u001b[1;33m\u001b[0m\u001b[0m\n\u001b[1;32m--> 828\u001b[1;33m       \u001b[0mresult\u001b[0m \u001b[1;33m=\u001b[0m \u001b[0mself\u001b[0m\u001b[1;33m.\u001b[0m\u001b[0m_call\u001b[0m\u001b[1;33m(\u001b[0m\u001b[1;33m*\u001b[0m\u001b[0margs\u001b[0m\u001b[1;33m,\u001b[0m \u001b[1;33m**\u001b[0m\u001b[0mkwds\u001b[0m\u001b[1;33m)\u001b[0m\u001b[1;33m\u001b[0m\u001b[1;33m\u001b[0m\u001b[0m\n\u001b[0m\u001b[0;32m    829\u001b[0m       \u001b[0mcompiler\u001b[0m \u001b[1;33m=\u001b[0m \u001b[1;34m\"xla\"\u001b[0m \u001b[1;32mif\u001b[0m \u001b[0mself\u001b[0m\u001b[1;33m.\u001b[0m\u001b[0m_experimental_compile\u001b[0m \u001b[1;32melse\u001b[0m \u001b[1;34m\"nonXla\"\u001b[0m\u001b[1;33m\u001b[0m\u001b[1;33m\u001b[0m\u001b[0m\n\u001b[0;32m    830\u001b[0m       \u001b[0mnew_tracing_count\u001b[0m \u001b[1;33m=\u001b[0m \u001b[0mself\u001b[0m\u001b[1;33m.\u001b[0m\u001b[0mexperimental_get_tracing_count\u001b[0m\u001b[1;33m(\u001b[0m\u001b[1;33m)\u001b[0m\u001b[1;33m\u001b[0m\u001b[1;33m\u001b[0m\u001b[0m\n",
      "\u001b[1;32m~\\anaconda3\\lib\\site-packages\\tensorflow\\python\\eager\\def_function.py\u001b[0m in \u001b[0;36m_call\u001b[1;34m(self, *args, **kwds)\u001b[0m\n\u001b[0;32m    853\u001b[0m       \u001b[1;31m# In this case we have created variables on the first call, so we run the\u001b[0m\u001b[1;33m\u001b[0m\u001b[1;33m\u001b[0m\u001b[1;33m\u001b[0m\u001b[0m\n\u001b[0;32m    854\u001b[0m       \u001b[1;31m# defunned version which is guaranteed to never create variables.\u001b[0m\u001b[1;33m\u001b[0m\u001b[1;33m\u001b[0m\u001b[1;33m\u001b[0m\u001b[0m\n\u001b[1;32m--> 855\u001b[1;33m       \u001b[1;32mreturn\u001b[0m \u001b[0mself\u001b[0m\u001b[1;33m.\u001b[0m\u001b[0m_stateless_fn\u001b[0m\u001b[1;33m(\u001b[0m\u001b[1;33m*\u001b[0m\u001b[0margs\u001b[0m\u001b[1;33m,\u001b[0m \u001b[1;33m**\u001b[0m\u001b[0mkwds\u001b[0m\u001b[1;33m)\u001b[0m  \u001b[1;31m# pylint: disable=not-callable\u001b[0m\u001b[1;33m\u001b[0m\u001b[1;33m\u001b[0m\u001b[0m\n\u001b[0m\u001b[0;32m    856\u001b[0m     \u001b[1;32melif\u001b[0m \u001b[0mself\u001b[0m\u001b[1;33m.\u001b[0m\u001b[0m_stateful_fn\u001b[0m \u001b[1;32mis\u001b[0m \u001b[1;32mnot\u001b[0m \u001b[1;32mNone\u001b[0m\u001b[1;33m:\u001b[0m\u001b[1;33m\u001b[0m\u001b[1;33m\u001b[0m\u001b[0m\n\u001b[0;32m    857\u001b[0m       \u001b[1;31m# Release the lock early so that multiple threads can perform the call\u001b[0m\u001b[1;33m\u001b[0m\u001b[1;33m\u001b[0m\u001b[1;33m\u001b[0m\u001b[0m\n",
      "\u001b[1;32m~\\anaconda3\\lib\\site-packages\\tensorflow\\python\\eager\\function.py\u001b[0m in \u001b[0;36m__call__\u001b[1;34m(self, *args, **kwargs)\u001b[0m\n\u001b[0;32m   2940\u001b[0m       (graph_function,\n\u001b[0;32m   2941\u001b[0m        filtered_flat_args) = self._maybe_define_function(args, kwargs)\n\u001b[1;32m-> 2942\u001b[1;33m     return graph_function._call_flat(\n\u001b[0m\u001b[0;32m   2943\u001b[0m         filtered_flat_args, captured_inputs=graph_function.captured_inputs)  # pylint: disable=protected-access\n\u001b[0;32m   2944\u001b[0m \u001b[1;33m\u001b[0m\u001b[0m\n",
      "\u001b[1;32m~\\anaconda3\\lib\\site-packages\\tensorflow\\python\\eager\\function.py\u001b[0m in \u001b[0;36m_call_flat\u001b[1;34m(self, args, captured_inputs, cancellation_manager)\u001b[0m\n\u001b[0;32m   1916\u001b[0m         and executing_eagerly):\n\u001b[0;32m   1917\u001b[0m       \u001b[1;31m# No tape is watching; skip to running the function.\u001b[0m\u001b[1;33m\u001b[0m\u001b[1;33m\u001b[0m\u001b[1;33m\u001b[0m\u001b[0m\n\u001b[1;32m-> 1918\u001b[1;33m       return self._build_call_outputs(self._inference_function.call(\n\u001b[0m\u001b[0;32m   1919\u001b[0m           ctx, args, cancellation_manager=cancellation_manager))\n\u001b[0;32m   1920\u001b[0m     forward_backward = self._select_forward_and_backward_functions(\n",
      "\u001b[1;32m~\\anaconda3\\lib\\site-packages\\tensorflow\\python\\eager\\function.py\u001b[0m in \u001b[0;36mcall\u001b[1;34m(self, ctx, args, cancellation_manager)\u001b[0m\n\u001b[0;32m    553\u001b[0m       \u001b[1;32mwith\u001b[0m \u001b[0m_InterpolateFunctionError\u001b[0m\u001b[1;33m(\u001b[0m\u001b[0mself\u001b[0m\u001b[1;33m)\u001b[0m\u001b[1;33m:\u001b[0m\u001b[1;33m\u001b[0m\u001b[1;33m\u001b[0m\u001b[0m\n\u001b[0;32m    554\u001b[0m         \u001b[1;32mif\u001b[0m \u001b[0mcancellation_manager\u001b[0m \u001b[1;32mis\u001b[0m \u001b[1;32mNone\u001b[0m\u001b[1;33m:\u001b[0m\u001b[1;33m\u001b[0m\u001b[1;33m\u001b[0m\u001b[0m\n\u001b[1;32m--> 555\u001b[1;33m           outputs = execute.execute(\n\u001b[0m\u001b[0;32m    556\u001b[0m               \u001b[0mstr\u001b[0m\u001b[1;33m(\u001b[0m\u001b[0mself\u001b[0m\u001b[1;33m.\u001b[0m\u001b[0msignature\u001b[0m\u001b[1;33m.\u001b[0m\u001b[0mname\u001b[0m\u001b[1;33m)\u001b[0m\u001b[1;33m,\u001b[0m\u001b[1;33m\u001b[0m\u001b[1;33m\u001b[0m\u001b[0m\n\u001b[0;32m    557\u001b[0m               \u001b[0mnum_outputs\u001b[0m\u001b[1;33m=\u001b[0m\u001b[0mself\u001b[0m\u001b[1;33m.\u001b[0m\u001b[0m_num_outputs\u001b[0m\u001b[1;33m,\u001b[0m\u001b[1;33m\u001b[0m\u001b[1;33m\u001b[0m\u001b[0m\n",
      "\u001b[1;32m~\\anaconda3\\lib\\site-packages\\tensorflow\\python\\eager\\execute.py\u001b[0m in \u001b[0;36mquick_execute\u001b[1;34m(op_name, num_outputs, inputs, attrs, ctx, name)\u001b[0m\n\u001b[0;32m     57\u001b[0m   \u001b[1;32mtry\u001b[0m\u001b[1;33m:\u001b[0m\u001b[1;33m\u001b[0m\u001b[1;33m\u001b[0m\u001b[0m\n\u001b[0;32m     58\u001b[0m     \u001b[0mctx\u001b[0m\u001b[1;33m.\u001b[0m\u001b[0mensure_initialized\u001b[0m\u001b[1;33m(\u001b[0m\u001b[1;33m)\u001b[0m\u001b[1;33m\u001b[0m\u001b[1;33m\u001b[0m\u001b[0m\n\u001b[1;32m---> 59\u001b[1;33m     tensors = pywrap_tfe.TFE_Py_Execute(ctx._handle, device_name, op_name,\n\u001b[0m\u001b[0;32m     60\u001b[0m                                         inputs, attrs, num_outputs)\n\u001b[0;32m     61\u001b[0m   \u001b[1;32mexcept\u001b[0m \u001b[0mcore\u001b[0m\u001b[1;33m.\u001b[0m\u001b[0m_NotOkStatusException\u001b[0m \u001b[1;32mas\u001b[0m \u001b[0me\u001b[0m\u001b[1;33m:\u001b[0m\u001b[1;33m\u001b[0m\u001b[1;33m\u001b[0m\u001b[0m\n",
      "\u001b[1;31mKeyboardInterrupt\u001b[0m: "
     ]
    }
   ],
   "source": [
    "Conv_Autoencoder(X_TRAIN,X_TRAIN)"
   ]
  },
  {
   "cell_type": "code",
   "execution_count": null,
   "metadata": {},
   "outputs": [],
   "source": []
  }
 ],
 "metadata": {
  "kernelspec": {
   "display_name": "Python 3",
   "language": "python",
   "name": "python3"
  },
  "language_info": {
   "codemirror_mode": {
    "name": "ipython",
    "version": 3
   },
   "file_extension": ".py",
   "mimetype": "text/x-python",
   "name": "python",
   "nbconvert_exporter": "python",
   "pygments_lexer": "ipython3",
   "version": "3.7.6"
  }
 },
 "nbformat": 4,
 "nbformat_minor": 4
}
